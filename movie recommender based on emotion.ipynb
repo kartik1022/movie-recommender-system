{
 "cells": [
  {
   "cell_type": "markdown",
   "id": "bf12eec4",
   "metadata": {},
   "source": [
    "# movie recommender using mood of the person\n"
   ]
  },
  {
   "cell_type": "code",
   "execution_count": 11,
   "id": "e8b6a14e",
   "metadata": {},
   "outputs": [],
   "source": [
    "from bs4 import BeautifulSoup as SOUP\n",
    "import re\n",
    "import requests as HTTP"
   ]
  },
  {
   "cell_type": "code",
   "execution_count": 12,
   "id": "37d215d2",
   "metadata": {},
   "outputs": [
    {
     "name": "stdout",
     "output_type": "stream",
     "text": [
      "Enter the emotion: angry\n",
      "\n",
      "Recommended movies for angry:\n",
      "\n",
      "1. 12 Angry Men (1957)\n",
      "2. The Angry Birds Movie (2016)\n",
      "3. Drive Angry (2011)\n",
      "4. The Rolling Stones: Angry (2023)\n",
      "5. 12 Angry Men (1997)\n"
     ]
    }
   ],
   "source": [
    "import imdb\n",
    "\n",
    "def recommend_movies(emotion, num_recommendations=5):\n",
    "    ia = imdb.IMDb()\n",
    "\n",
    "    # Search for movies based on emotion (genre)\n",
    "    movies = ia.search_movie(emotion)\n",
    "\n",
    "    print(f\"\\nRecommended movies for {emotion}:\\n\")\n",
    "\n",
    "    for i, movie in enumerate(movies[:num_recommendations]):\n",
    "        print(f\"{i + 1}. {movie['title']} ({movie['year']})\")\n",
    "\n",
    "if __name__ == '__main__':\n",
    "    emotion = input(\"Enter the emotion: \").lower()\n",
    "    recommend_movies(emotion)\n"
   ]
  },
  {
   "cell_type": "code",
   "execution_count": 13,
   "id": "22ba9a35",
   "metadata": {},
   "outputs": [
    {
     "name": "stdout",
     "output_type": "stream",
     "text": [
      "Enter the emotion: angry\n"
     ]
    },
    {
     "name": "stderr",
     "output_type": "stream",
     "text": [
      "2024-01-29 17:00:54,347 ERROR [imdbpy] C:\\Users\\ASUS\\anaconda3\\lib\\site-packages\\imdb\\__init__.py:844: unknown information set \"ratings\"\n",
      "2024-01-29 17:00:57,185 ERROR [imdbpy] C:\\Users\\ASUS\\anaconda3\\lib\\site-packages\\imdb\\__init__.py:844: unknown information set \"ratings\"\n",
      "2024-01-29 17:00:59,564 ERROR [imdbpy] C:\\Users\\ASUS\\anaconda3\\lib\\site-packages\\imdb\\__init__.py:844: unknown information set \"ratings\"\n",
      "2024-01-29 17:01:01,408 ERROR [imdbpy] C:\\Users\\ASUS\\anaconda3\\lib\\site-packages\\imdb\\__init__.py:844: unknown information set \"ratings\"\n",
      "2024-01-29 17:01:03,350 ERROR [imdbpy] C:\\Users\\ASUS\\anaconda3\\lib\\site-packages\\imdb\\__init__.py:844: unknown information set \"ratings\"\n"
     ]
    },
    {
     "name": "stdout",
     "output_type": "stream",
     "text": [
      "\n",
      "Recommended movies for angry:\n",
      "\n",
      "1. 12 Angry Men (1957) - Rating: 9.0\n",
      "2. The Angry Birds Movie (2016) - Rating: 6.3\n",
      "3. Drive Angry (2011) - Rating: 5.4\n",
      "4. The Rolling Stones: Angry (2023) - Rating: 8.0\n",
      "5. 12 Angry Men (1997) - Rating: 7.8\n",
      "Enter minimum year (or press Enter to skip):2010\n",
      "Enter maximum year (or press Enter to skip):2020\n",
      "Enter minimum rating (or press Enter to skip):7.5\n",
      "\n",
      "Filtered Recommendations:\n",
      "\n"
     ]
    }
   ],
   "source": [
    "\n",
    "\n",
    "def filter_movies(movies, min_year=None, max_year=None, min_rating=None):\n",
    "    filtered_movies = []\n",
    "\n",
    "    for movie in movies:\n",
    "        # Check year filter\n",
    "        if min_year is not None and movie['year'] < min_year:\n",
    "            continue\n",
    "        if max_year is not None and movie['year'] > max_year:\n",
    "            continue\n",
    "\n",
    "        # Check rating filter\n",
    "        if min_rating is not None and movie.get('rating') is not None and movie['rating'] < min_rating:\n",
    "            continue\n",
    "\n",
    "        filtered_movies.append(movie)\n",
    "\n",
    "    return filtered_movies\n",
    "\n",
    "def recommend_movies(emotion, num_recommendations=5):\n",
    "    ia = imdb.IMDb()\n",
    "\n",
    "    # Search for movies based on emotion (genre)\n",
    "    movies = ia.search_movie(emotion)\n",
    "\n",
    "    recommendations = []\n",
    "    for movie in movies[:num_recommendations]:\n",
    "        # Get additional details (e.g., rating) for each movie\n",
    "        ia.update(movie, info=['main', 'ratings'])\n",
    "\n",
    "        recommendation_info = {\n",
    "            'title': movie['title'],\n",
    "            'year': movie['year'],\n",
    "            'rating': movie.get('rating', 'N/A')\n",
    "        }\n",
    "        recommendations.append(recommendation_info)\n",
    "\n",
    "    print(f\"\\nRecommended movies for {emotion}:\\n\")\n",
    "\n",
    "    for i, movie in enumerate(recommendations):\n",
    "        print(f\"{i + 1}. {movie['title']} ({movie['year']}) - Rating: {movie['rating']}\")\n",
    "\n",
    "    # Apply filters to recommendations\n",
    "    min_year = int(input(\"Enter minimum year (or press Enter to skip):\") or 0)\n",
    "    max_year = int(input(\"Enter maximum year (or press Enter to skip):\") or float('inf'))\n",
    "    min_rating = float(input(\"Enter minimum rating (or press Enter to skip):\") or 0)\n",
    "\n",
    "    filtered_recommendations = filter_movies(recommendations, min_year, max_year, min_rating)\n",
    "\n",
    "    print(\"\\nFiltered Recommendations:\\n\")\n",
    "\n",
    "    for i, movie in enumerate(filtered_recommendations):\n",
    "        print(f\"{i + 1}. {movie['title']} ({movie['year']}) - Rating: {movie['rating']}\")\n",
    "\n",
    "if __name__ == '__main__':\n",
    "    emotion = input(\"Enter the emotion: \").lower()\n",
    "    recommend_movies(emotion)\n"
   ]
  },
  {
   "cell_type": "code",
   "execution_count": 14,
   "id": "f4961d34",
   "metadata": {},
   "outputs": [
    {
     "name": "stdout",
     "output_type": "stream",
     "text": [
      "Cosine Similarity: 0.9494068060614247\n"
     ]
    }
   ],
   "source": [
    "from sklearn.metrics.pairwise import cosine_similarity\n",
    "import numpy as np\n",
    "\n",
    "vector_A = np.array([1, 0, 1, 4.5])\n",
    "vector_B = np.array([0, 1, 1, 4.0])\n",
    "\n",
    "# Reshape the vectors to be 2D arrays\n",
    "vector_A = vector_A.reshape(1, -1)\n",
    "vector_B = vector_B.reshape(1, -1)\n",
    "\n",
    "# Calculate cosine similarity\n",
    "similarity_score = cosine_similarity(vector_A, vector_B)[0, 0]\n",
    "\n",
    "print(f\"Cosine Similarity: {similarity_score}\")\n"
   ]
  },
  {
   "cell_type": "code",
   "execution_count": 15,
   "id": "039a8c29",
   "metadata": {},
   "outputs": [
    {
     "name": "stdout",
     "output_type": "stream",
     "text": [
      "Enter the emotion: angry\n"
     ]
    },
    {
     "name": "stderr",
     "output_type": "stream",
     "text": [
      "2024-01-29 17:01:29,889 ERROR [imdbpy] C:\\Users\\ASUS\\anaconda3\\lib\\site-packages\\imdb\\__init__.py:844: unknown information set \"ratings\"\n",
      "2024-01-29 17:01:29,889 ERROR [imdbpy] C:\\Users\\ASUS\\anaconda3\\lib\\site-packages\\imdb\\__init__.py:844: unknown information set \"genres\"\n",
      "2024-01-29 17:01:29,897 ERROR [imdbpy] C:\\Users\\ASUS\\anaconda3\\lib\\site-packages\\imdb\\__init__.py:844: unknown information set \"year\"\n"
     ]
    },
    {
     "name": "stdout",
     "output_type": "stream",
     "text": [
      "['title', 'year', 'kind', 'cover url', 'localized title', 'cast', 'genres', 'runtimes', 'countries', 'country codes', 'language codes', 'color info', 'aspect ratio', 'sound mix', 'box office', 'certificates', 'original air date', 'rating', 'votes', 'imdbID', 'videos', 'plot outline', 'languages', 'original title', 'director', 'writer', 'producer', 'composer', 'cinematographer', 'editor', 'art direction', 'make up', 'production manager', 'assistant director', 'sound crew', 'camera and electrical department', 'music department', 'script department', 'akas', 'top 250 rank', 'production companies', 'distributors', 'other companies', 'canonical title', 'long imdb title', 'long imdb canonical title', 'smart canonical title', 'smart long imdb canonical title', 'full-size cover url']\n"
     ]
    },
    {
     "name": "stderr",
     "output_type": "stream",
     "text": [
      "2024-01-29 17:01:33,891 ERROR [imdbpy] C:\\Users\\ASUS\\anaconda3\\lib\\site-packages\\imdb\\__init__.py:844: unknown information set \"ratings\"\n",
      "2024-01-29 17:01:33,899 ERROR [imdbpy] C:\\Users\\ASUS\\anaconda3\\lib\\site-packages\\imdb\\__init__.py:844: unknown information set \"genres\"\n",
      "2024-01-29 17:01:33,936 ERROR [imdbpy] C:\\Users\\ASUS\\anaconda3\\lib\\site-packages\\imdb\\__init__.py:844: unknown information set \"year\"\n"
     ]
    },
    {
     "name": "stdout",
     "output_type": "stream",
     "text": [
      "['title', 'year', 'kind', 'cover url', 'localized title', 'cast', 'genres', 'runtimes', 'countries', 'country codes', 'language codes', 'color info', 'aspect ratio', 'sound mix', 'box office', 'certificates', 'original air date', 'rating', 'votes', 'imdbID', 'videos', 'plot outline', 'languages', 'original title', 'director', 'writer', 'producer', 'composer', 'editor', 'editorial department', 'casting director', 'production design', 'art direction', 'production manager', 'art department', 'sound crew', 'visual effects', 'animation department', 'music department', 'script department', 'miscellaneous crew', 'thanks', 'akas', 'production companies', 'distributors', 'special effects', 'other companies', 'canonical title', 'long imdb title', 'long imdb canonical title', 'smart canonical title', 'smart long imdb canonical title', 'full-size cover url']\n"
     ]
    },
    {
     "name": "stderr",
     "output_type": "stream",
     "text": [
      "2024-01-29 17:01:36,310 ERROR [imdbpy] C:\\Users\\ASUS\\anaconda3\\lib\\site-packages\\imdb\\__init__.py:844: unknown information set \"ratings\"\n",
      "2024-01-29 17:01:36,310 ERROR [imdbpy] C:\\Users\\ASUS\\anaconda3\\lib\\site-packages\\imdb\\__init__.py:844: unknown information set \"genres\"\n",
      "2024-01-29 17:01:36,310 ERROR [imdbpy] C:\\Users\\ASUS\\anaconda3\\lib\\site-packages\\imdb\\__init__.py:844: unknown information set \"year\"\n"
     ]
    },
    {
     "name": "stdout",
     "output_type": "stream",
     "text": [
      "['title', 'year', 'kind', 'cover url', 'localized title', 'cast', 'genres', 'runtimes', 'countries', 'country codes', 'language codes', 'color info', 'aspect ratio', 'sound mix', 'box office', 'certificates', 'original air date', 'rating', 'votes', 'imdbID', 'videos', 'plot outline', 'languages', 'original title', 'director', 'writer', 'producer', 'composer', 'cinematographer', 'editor', 'editorial department', 'casting director', 'production design', 'art direction', 'set decoration', 'costume designer', 'make up', 'production manager', 'assistant director', 'art department', 'sound crew', 'special effects', 'visual effects', 'stunt performer', 'camera and electrical department', 'animation department', 'casting department', 'costume department', 'location management', 'music department', 'script department', 'transportation department', 'miscellaneous crew', 'thanks', 'akas', 'production companies', 'distributors', 'special effects companies', 'other companies', 'canonical title', 'long imdb title', 'long imdb canonical title', 'smart canonical title', 'smart long imdb canonical title', 'full-size cover url']\n"
     ]
    },
    {
     "name": "stderr",
     "output_type": "stream",
     "text": [
      "2024-01-29 17:01:38,049 ERROR [imdbpy] C:\\Users\\ASUS\\anaconda3\\lib\\site-packages\\imdb\\__init__.py:844: unknown information set \"ratings\"\n",
      "2024-01-29 17:01:38,057 ERROR [imdbpy] C:\\Users\\ASUS\\anaconda3\\lib\\site-packages\\imdb\\__init__.py:844: unknown information set \"genres\"\n",
      "2024-01-29 17:01:38,057 ERROR [imdbpy] C:\\Users\\ASUS\\anaconda3\\lib\\site-packages\\imdb\\__init__.py:844: unknown information set \"year\"\n"
     ]
    },
    {
     "name": "stdout",
     "output_type": "stream",
     "text": [
      "['title', 'year', 'kind', 'cover url', 'localized title', 'cast', 'genres', 'runtimes', 'countries', 'country codes', 'language codes', 'color info', 'original air date', 'rating', 'votes', 'imdbID', 'plot outline', 'languages', 'original title', 'director', 'composer', 'assistant director', 'stunt performer', 'camera and electrical department', 'akas', 'distributors', 'canonical title', 'long imdb title', 'long imdb canonical title', 'smart canonical title', 'smart long imdb canonical title', 'full-size cover url']\n"
     ]
    },
    {
     "name": "stderr",
     "output_type": "stream",
     "text": [
      "2024-01-29 17:01:39,896 ERROR [imdbpy] C:\\Users\\ASUS\\anaconda3\\lib\\site-packages\\imdb\\__init__.py:844: unknown information set \"ratings\"\n",
      "2024-01-29 17:01:39,896 ERROR [imdbpy] C:\\Users\\ASUS\\anaconda3\\lib\\site-packages\\imdb\\__init__.py:844: unknown information set \"genres\"\n",
      "2024-01-29 17:01:39,896 ERROR [imdbpy] C:\\Users\\ASUS\\anaconda3\\lib\\site-packages\\imdb\\__init__.py:844: unknown information set \"year\"\n"
     ]
    },
    {
     "name": "stdout",
     "output_type": "stream",
     "text": [
      "['title', 'year', 'kind', 'cover url', 'localized title', 'cast', 'genres', 'runtimes', 'countries', 'country codes', 'language codes', 'color info', 'aspect ratio', 'sound mix', 'certificates', 'original air date', 'rating', 'votes', 'imdbID', 'videos', 'plot outline', 'languages', 'original title', 'director', 'writer', 'producer', 'cinematographer', 'editor', 'editorial department', 'casting director', 'production design', 'set decoration', 'costume designer', 'make up', 'production manager', 'assistant director', 'art department', 'sound crew', 'special effects', 'camera and electrical department', 'casting department', 'costume department', 'music department', 'script department', 'transportation department', 'miscellaneous crew', 'akas', 'production companies', 'distributors', 'other companies', 'canonical title', 'long imdb title', 'long imdb canonical title', 'smart canonical title', 'smart long imdb canonical title', 'full-size cover url']\n"
     ]
    },
    {
     "name": "stderr",
     "output_type": "stream",
     "text": [
      "2024-01-29 17:01:42,574 ERROR [imdbpy] C:\\Users\\ASUS\\anaconda3\\lib\\site-packages\\imdb\\__init__.py:844: unknown information set \"ratings\"\n",
      "2024-01-29 17:01:42,582 ERROR [imdbpy] C:\\Users\\ASUS\\anaconda3\\lib\\site-packages\\imdb\\__init__.py:844: unknown information set \"genres\"\n",
      "2024-01-29 17:01:42,582 ERROR [imdbpy] C:\\Users\\ASUS\\anaconda3\\lib\\site-packages\\imdb\\__init__.py:844: unknown information set \"year\"\n"
     ]
    },
    {
     "name": "stdout",
     "output_type": "stream",
     "text": [
      "['title', 'year', 'kind', 'cover url', 'localized title', 'cast', 'genres', 'runtimes', 'countries', 'country codes', 'language codes', 'color info', 'aspect ratio', 'sound mix', 'box office', 'certificates', 'original air date', 'rating', 'votes', 'imdbID', 'videos', 'plot outline', 'languages', 'original title', 'director', 'writer', 'producer', 'composer', 'cinematographer', 'editor', 'editorial department', 'casting director', 'production design', 'production manager', 'art department', 'sound crew', 'visual effects', 'animation department', 'casting department', 'music department', 'miscellaneous crew', 'thanks', 'akas', 'production companies', 'distributors', 'special effects', 'other companies', 'canonical title', 'long imdb title', 'long imdb canonical title', 'smart canonical title', 'smart long imdb canonical title', 'full-size cover url']\n"
     ]
    },
    {
     "name": "stderr",
     "output_type": "stream",
     "text": [
      "2024-01-29 17:01:44,696 ERROR [imdbpy] C:\\Users\\ASUS\\anaconda3\\lib\\site-packages\\imdb\\__init__.py:844: unknown information set \"ratings\"\n",
      "2024-01-29 17:01:44,696 ERROR [imdbpy] C:\\Users\\ASUS\\anaconda3\\lib\\site-packages\\imdb\\__init__.py:844: unknown information set \"genres\"\n",
      "2024-01-29 17:01:44,696 ERROR [imdbpy] C:\\Users\\ASUS\\anaconda3\\lib\\site-packages\\imdb\\__init__.py:844: unknown information set \"year\"\n"
     ]
    },
    {
     "name": "stdout",
     "output_type": "stream",
     "text": [
      "['title', 'year', 'kind', 'cover url', 'localized title', 'cast', 'genres', 'runtimes', 'countries', 'country codes', 'language codes', 'color info', 'box office', 'certificates', 'original air date', 'rating', 'votes', 'imdbID', 'videos', 'plot outline', 'languages', 'original title', 'director', 'writer', 'producer', 'composer', 'cinematographer', 'editor', 'editorial department', 'casting director', 'production design', 'art direction', 'set decoration', 'costume designer', 'make up', 'production manager', 'assistant director', 'art department', 'sound crew', 'special effects', 'visual effects', 'stunt performer', 'camera and electrical department', 'costume department', 'location management', 'music department', 'script department', 'transportation department', 'miscellaneous crew', 'akas', 'production companies', 'distributors', 'other companies', 'canonical title', 'long imdb title', 'long imdb canonical title', 'smart canonical title', 'smart long imdb canonical title', 'full-size cover url']\n"
     ]
    },
    {
     "name": "stderr",
     "output_type": "stream",
     "text": [
      "2024-01-29 17:01:46,887 ERROR [imdbpy] C:\\Users\\ASUS\\anaconda3\\lib\\site-packages\\imdb\\__init__.py:844: unknown information set \"ratings\"\n",
      "2024-01-29 17:01:46,888 ERROR [imdbpy] C:\\Users\\ASUS\\anaconda3\\lib\\site-packages\\imdb\\__init__.py:844: unknown information set \"genres\"\n",
      "2024-01-29 17:01:46,889 ERROR [imdbpy] C:\\Users\\ASUS\\anaconda3\\lib\\site-packages\\imdb\\__init__.py:844: unknown information set \"year\"\n"
     ]
    },
    {
     "name": "stdout",
     "output_type": "stream",
     "text": [
      "['title', 'year', 'kind', 'cover url', 'localized title', 'cast', 'genres', 'runtimes', 'countries', 'country codes', 'language codes', 'color info', 'aspect ratio', 'sound mix', 'box office', 'certificates', 'original air date', 'rating', 'votes', 'imdbID', 'videos', 'plot outline', 'languages', 'original title', 'director', 'writer', 'producer', 'composer', 'cinematographer', 'editor', 'editorial department', 'casting director', 'production design', 'art direction', 'set decoration', 'costume designer', 'make up', 'production manager', 'assistant director', 'art department', 'sound crew', 'special effects', 'visual effects', 'stunt performer', 'camera and electrical department', 'animation department', 'casting department', 'costume department', 'location management', 'music department', 'script department', 'transportation department', 'miscellaneous crew', 'thanks', 'akas', 'production companies', 'distributors', 'special effects companies', 'other companies', 'canonical title', 'long imdb title', 'long imdb canonical title', 'smart canonical title', 'smart long imdb canonical title', 'full-size cover url']\n"
     ]
    },
    {
     "name": "stderr",
     "output_type": "stream",
     "text": [
      "2024-01-29 17:01:48,644 ERROR [imdbpy] C:\\Users\\ASUS\\anaconda3\\lib\\site-packages\\imdb\\__init__.py:844: unknown information set \"ratings\"\n",
      "2024-01-29 17:01:48,644 ERROR [imdbpy] C:\\Users\\ASUS\\anaconda3\\lib\\site-packages\\imdb\\__init__.py:844: unknown information set \"genres\"\n",
      "2024-01-29 17:01:48,644 ERROR [imdbpy] C:\\Users\\ASUS\\anaconda3\\lib\\site-packages\\imdb\\__init__.py:844: unknown information set \"year\"\n"
     ]
    },
    {
     "name": "stdout",
     "output_type": "stream",
     "text": [
      "['title', 'year', 'kind', 'cover url', 'localized title', 'cast', 'genres', 'runtimes', 'countries', 'country codes', 'language codes', 'color info', 'aspect ratio', 'sound mix', 'box office', 'certificates', 'original air date', 'rating', 'votes', 'imdbID', 'videos', 'plot outline', 'languages', 'original title', 'director', 'writer', 'producer', 'composer', 'cinematographer', 'editor', 'production design', 'make up', 'production manager', 'assistant director', 'sound crew', 'camera and electrical department', 'costume department', 'music department', 'script department', 'miscellaneous crew', 'akas', 'production companies', 'distributors', 'canonical title', 'long imdb title', 'long imdb canonical title', 'smart canonical title', 'smart long imdb canonical title', 'full-size cover url']\n"
     ]
    },
    {
     "name": "stderr",
     "output_type": "stream",
     "text": [
      "2024-01-29 17:01:50,587 ERROR [imdbpy] C:\\Users\\ASUS\\anaconda3\\lib\\site-packages\\imdb\\__init__.py:844: unknown information set \"ratings\"\n",
      "2024-01-29 17:01:50,591 ERROR [imdbpy] C:\\Users\\ASUS\\anaconda3\\lib\\site-packages\\imdb\\__init__.py:844: unknown information set \"genres\"\n",
      "2024-01-29 17:01:50,591 ERROR [imdbpy] C:\\Users\\ASUS\\anaconda3\\lib\\site-packages\\imdb\\__init__.py:844: unknown information set \"year\"\n"
     ]
    },
    {
     "name": "stdout",
     "output_type": "stream",
     "text": [
      "['title', 'year', 'imdbIndex', 'kind', 'cover url', 'localized title', 'cast', 'genres', 'runtimes', 'countries', 'country codes', 'language codes', 'color info', 'aspect ratio', 'sound mix', 'certificates', 'creator', 'number of seasons', 'rating', 'votes', 'imdbID', 'videos', 'plot outline', 'languages', 'series years', 'original title', 'akas', 'seasons', 'writer', 'production companies', 'distributors', 'other companies', 'canonical title', 'long imdb title', 'long imdb canonical title', 'smart canonical title', 'smart long imdb canonical title', 'full-size cover url']\n"
     ]
    },
    {
     "name": "stderr",
     "output_type": "stream",
     "text": [
      "2024-01-29 17:01:52,441 ERROR [imdbpy] C:\\Users\\ASUS\\anaconda3\\lib\\site-packages\\imdb\\__init__.py:844: unknown information set \"ratings\"\n",
      "2024-01-29 17:01:52,443 ERROR [imdbpy] C:\\Users\\ASUS\\anaconda3\\lib\\site-packages\\imdb\\__init__.py:844: unknown information set \"genres\"\n",
      "2024-01-29 17:01:52,443 ERROR [imdbpy] C:\\Users\\ASUS\\anaconda3\\lib\\site-packages\\imdb\\__init__.py:844: unknown information set \"year\"\n"
     ]
    },
    {
     "name": "stdout",
     "output_type": "stream",
     "text": [
      "['title', 'year', 'kind', 'cover url', 'localized title', 'cast', 'genres', 'runtimes', 'countries', 'country codes', 'language codes', 'color info', 'aspect ratio', 'box office', 'certificates', 'number of seasons', 'rating', 'votes', 'imdbID', 'plot outline', 'languages', 'series years', 'original title', 'akas', 'seasons', 'writer', 'production companies', 'distributors', 'other companies', 'canonical title', 'long imdb title', 'long imdb canonical title', 'smart canonical title', 'smart long imdb canonical title', 'full-size cover url']\n"
     ]
    },
    {
     "name": "stderr",
     "output_type": "stream",
     "text": [
      "2024-01-29 17:01:55,175 ERROR [imdbpy] C:\\Users\\ASUS\\anaconda3\\lib\\site-packages\\imdb\\__init__.py:844: unknown information set \"ratings\"\n",
      "2024-01-29 17:01:55,175 ERROR [imdbpy] C:\\Users\\ASUS\\anaconda3\\lib\\site-packages\\imdb\\__init__.py:844: unknown information set \"genres\"\n",
      "2024-01-29 17:01:55,175 ERROR [imdbpy] C:\\Users\\ASUS\\anaconda3\\lib\\site-packages\\imdb\\__init__.py:844: unknown information set \"year\"\n"
     ]
    },
    {
     "name": "stdout",
     "output_type": "stream",
     "text": [
      "['title', 'year', 'kind', 'cover url', 'localized title', 'cast', 'genres', 'runtimes', 'countries', 'country codes', 'language codes', 'color info', 'aspect ratio', 'sound mix', 'box office', 'certificates', 'rating', 'votes', 'imdbID', 'videos', 'languages', 'original title', 'director', 'writer', 'producer', 'composer', 'cinematographer', 'editor', 'editorial department', 'casting director', 'production design', 'art direction', 'set decoration', 'costume designer', 'make up', 'production manager', 'assistant director', 'art department', 'sound crew', 'special effects', 'visual effects', 'stunt performer', 'camera and electrical department', 'animation department', 'casting department', 'costume department', 'location management', 'music department', 'script department', 'transportation department', 'miscellaneous crew', 'thanks', 'akas', 'production companies', 'distributors', 'special effects companies', 'other companies', 'canonical title', 'long imdb title', 'long imdb canonical title', 'smart canonical title', 'smart long imdb canonical title', 'full-size cover url']\n"
     ]
    },
    {
     "name": "stderr",
     "output_type": "stream",
     "text": [
      "2024-01-29 17:01:56,545 ERROR [imdbpy] C:\\Users\\ASUS\\anaconda3\\lib\\site-packages\\imdb\\__init__.py:844: unknown information set \"ratings\"\n",
      "2024-01-29 17:01:56,545 ERROR [imdbpy] C:\\Users\\ASUS\\anaconda3\\lib\\site-packages\\imdb\\__init__.py:844: unknown information set \"genres\"\n",
      "2024-01-29 17:01:56,545 ERROR [imdbpy] C:\\Users\\ASUS\\anaconda3\\lib\\site-packages\\imdb\\__init__.py:844: unknown information set \"year\"\n"
     ]
    },
    {
     "name": "stdout",
     "output_type": "stream",
     "text": [
      "['title', 'year', 'kind', 'cover url', 'original title', 'localized title', 'cast', 'genres', 'runtimes', 'countries', 'country codes', 'language codes', 'color info', 'box office', 'certificates', 'original air date', 'rating', 'votes', 'imdbID', 'videos', 'languages', 'director', 'writer', 'producer', 'composer', 'cinematographer', 'editor', 'editorial department', 'casting director', 'art direction', 'costume designer', 'make up', 'production manager', 'assistant director', 'art department', 'sound crew', 'special effects', 'camera and electrical department', 'casting department', 'costume department', 'location management', 'music department', 'script department', 'miscellaneous crew', 'akas', 'production companies', 'distributors', 'other companies', 'canonical title', 'long imdb title', 'long imdb canonical title', 'smart canonical title', 'smart long imdb canonical title', 'full-size cover url']\n"
     ]
    },
    {
     "name": "stderr",
     "output_type": "stream",
     "text": [
      "2024-01-29 17:01:58,339 ERROR [imdbpy] C:\\Users\\ASUS\\anaconda3\\lib\\site-packages\\imdb\\__init__.py:844: unknown information set \"ratings\"\n",
      "2024-01-29 17:01:58,339 ERROR [imdbpy] C:\\Users\\ASUS\\anaconda3\\lib\\site-packages\\imdb\\__init__.py:844: unknown information set \"genres\"\n",
      "2024-01-29 17:01:58,339 ERROR [imdbpy] C:\\Users\\ASUS\\anaconda3\\lib\\site-packages\\imdb\\__init__.py:844: unknown information set \"year\"\n"
     ]
    },
    {
     "name": "stdout",
     "output_type": "stream",
     "text": [
      "['title', 'year', 'kind', 'cover url', 'original title', 'localized title', 'cast', 'genres', 'runtimes', 'countries', 'country codes', 'language codes', 'color info', 'certificates', 'number of seasons', 'rating', 'votes', 'imdbID', 'plot outline', 'languages', 'series years', 'akas', 'seasons', 'writer', 'production companies', 'distributors', 'canonical title', 'long imdb title', 'long imdb canonical title', 'smart canonical title', 'smart long imdb canonical title', 'full-size cover url']\n"
     ]
    },
    {
     "name": "stderr",
     "output_type": "stream",
     "text": [
      "2024-01-29 17:02:00,447 ERROR [imdbpy] C:\\Users\\ASUS\\anaconda3\\lib\\site-packages\\imdb\\__init__.py:844: unknown information set \"ratings\"\n",
      "2024-01-29 17:02:00,455 ERROR [imdbpy] C:\\Users\\ASUS\\anaconda3\\lib\\site-packages\\imdb\\__init__.py:844: unknown information set \"genres\"\n",
      "2024-01-29 17:02:00,455 ERROR [imdbpy] C:\\Users\\ASUS\\anaconda3\\lib\\site-packages\\imdb\\__init__.py:844: unknown information set \"year\"\n"
     ]
    },
    {
     "name": "stdout",
     "output_type": "stream",
     "text": [
      "['title', 'year', 'kind', 'cover url', 'localized title', 'cast', 'genres', 'countries', 'country codes', 'language codes', 'color info', 'aspect ratio', 'certificates', 'creator', 'number of seasons', 'rating', 'votes', 'imdbID', 'plot outline', 'languages', 'series years', 'original title', 'akas', 'seasons', 'writer', 'production companies', 'distributors', 'canonical title', 'long imdb title', 'long imdb canonical title', 'smart canonical title', 'smart long imdb canonical title', 'full-size cover url']\n"
     ]
    },
    {
     "name": "stderr",
     "output_type": "stream",
     "text": [
      "2024-01-29 17:02:02,257 ERROR [imdbpy] C:\\Users\\ASUS\\anaconda3\\lib\\site-packages\\imdb\\__init__.py:844: unknown information set \"ratings\"\n",
      "2024-01-29 17:02:02,265 ERROR [imdbpy] C:\\Users\\ASUS\\anaconda3\\lib\\site-packages\\imdb\\__init__.py:844: unknown information set \"genres\"\n",
      "2024-01-29 17:02:02,265 ERROR [imdbpy] C:\\Users\\ASUS\\anaconda3\\lib\\site-packages\\imdb\\__init__.py:844: unknown information set \"year\"\n"
     ]
    },
    {
     "name": "stdout",
     "output_type": "stream",
     "text": [
      "['title', 'year', 'kind', 'cover url', 'localized title', 'cast', 'genres', 'runtimes', 'countries', 'country codes', 'language codes', 'color info', 'aspect ratio', 'certificates', 'original air date', 'rating', 'votes', 'imdbID', 'videos', 'plot outline', 'languages', 'original title', 'director', 'writer', 'producer', 'composer', 'cinematographer', 'editor', 'editorial department', 'casting director', 'production design', 'art direction', 'set decoration', 'costume designer', 'make up', 'production manager', 'assistant director', 'art department', 'sound crew', 'visual effects', 'stunt performer', 'camera and electrical department', 'costume department', 'location management', 'music department', 'miscellaneous crew', 'akas', 'production companies', 'distributors', 'other companies', 'canonical title', 'long imdb title', 'long imdb canonical title', 'smart canonical title', 'smart long imdb canonical title', 'full-size cover url']\n"
     ]
    },
    {
     "name": "stderr",
     "output_type": "stream",
     "text": [
      "2024-01-29 17:02:04,076 ERROR [imdbpy] C:\\Users\\ASUS\\anaconda3\\lib\\site-packages\\imdb\\__init__.py:844: unknown information set \"ratings\"\n",
      "2024-01-29 17:02:04,076 ERROR [imdbpy] C:\\Users\\ASUS\\anaconda3\\lib\\site-packages\\imdb\\__init__.py:844: unknown information set \"genres\"\n",
      "2024-01-29 17:02:04,076 ERROR [imdbpy] C:\\Users\\ASUS\\anaconda3\\lib\\site-packages\\imdb\\__init__.py:844: unknown information set \"year\"\n"
     ]
    },
    {
     "name": "stdout",
     "output_type": "stream",
     "text": [
      "['title', 'year', 'kind', 'cover url', 'localized title', 'cast', 'genres', 'runtimes', 'countries', 'country codes', 'language codes', 'color info', 'aspect ratio', 'sound mix', 'box office', 'certificates', 'original air date', 'rating', 'votes', 'imdbID', 'videos', 'plot outline', 'languages', 'original title', 'director', 'writer', 'producer', 'composer', 'cinematographer', 'editor', 'art direction', 'make up', 'assistant director', 'art department', 'sound crew', 'special effects', 'visual effects', 'camera and electrical department', 'costume department', 'music department', 'script department', 'miscellaneous crew', 'akas', 'production companies', 'distributors', 'other companies', 'canonical title', 'long imdb title', 'long imdb canonical title', 'smart canonical title', 'smart long imdb canonical title', 'full-size cover url']\n"
     ]
    },
    {
     "name": "stderr",
     "output_type": "stream",
     "text": [
      "2024-01-29 17:02:05,583 ERROR [imdbpy] C:\\Users\\ASUS\\anaconda3\\lib\\site-packages\\imdb\\__init__.py:844: unknown information set \"ratings\"\n",
      "2024-01-29 17:02:05,583 ERROR [imdbpy] C:\\Users\\ASUS\\anaconda3\\lib\\site-packages\\imdb\\__init__.py:844: unknown information set \"genres\"\n",
      "2024-01-29 17:02:05,583 ERROR [imdbpy] C:\\Users\\ASUS\\anaconda3\\lib\\site-packages\\imdb\\__init__.py:844: unknown information set \"year\"\n"
     ]
    },
    {
     "name": "stdout",
     "output_type": "stream",
     "text": [
      "['title', 'year', 'imdbIndex', 'kind', 'cover url', 'localized title', 'genres', 'runtimes', 'countries', 'country codes', 'language codes', 'color info', 'aspect ratio', 'sound mix', 'certificates', 'number of seasons', 'rating', 'votes', 'imdbID', 'videos', 'plot outline', 'languages', 'series years', 'original title', 'akas', 'seasons', 'writer', 'production companies', 'distributors', 'other companies', 'canonical title', 'long imdb title', 'long imdb canonical title', 'smart canonical title', 'smart long imdb canonical title', 'full-size cover url']\n"
     ]
    },
    {
     "name": "stderr",
     "output_type": "stream",
     "text": [
      "2024-01-29 17:02:07,354 ERROR [imdbpy] C:\\Users\\ASUS\\anaconda3\\lib\\site-packages\\imdb\\__init__.py:844: unknown information set \"ratings\"\n",
      "2024-01-29 17:02:07,354 ERROR [imdbpy] C:\\Users\\ASUS\\anaconda3\\lib\\site-packages\\imdb\\__init__.py:844: unknown information set \"genres\"\n",
      "2024-01-29 17:02:07,354 ERROR [imdbpy] C:\\Users\\ASUS\\anaconda3\\lib\\site-packages\\imdb\\__init__.py:844: unknown information set \"year\"\n"
     ]
    },
    {
     "name": "stdout",
     "output_type": "stream",
     "text": [
      "['title', 'year', 'kind', 'cover url', 'localized title', 'cast', 'genres', 'runtimes', 'countries', 'country codes', 'language codes', 'color info', 'aspect ratio', 'sound mix', 'certificates', 'original air date', 'rating', 'votes', 'imdbID', 'plot outline', 'languages', 'original title', 'director', 'writer', 'producer', 'composer', 'cinematographer', 'editor', 'editorial department', 'production design', 'costume designer', 'make up', 'production manager', 'assistant director', 'art department', 'sound crew', 'camera and electrical department', 'miscellaneous crew', 'akas', 'production companies', 'distributors', 'canonical title', 'long imdb title', 'long imdb canonical title', 'smart canonical title', 'smart long imdb canonical title', 'full-size cover url']\n"
     ]
    },
    {
     "name": "stderr",
     "output_type": "stream",
     "text": [
      "2024-01-29 17:02:09,123 ERROR [imdbpy] C:\\Users\\ASUS\\anaconda3\\lib\\site-packages\\imdb\\__init__.py:844: unknown information set \"ratings\"\n",
      "2024-01-29 17:02:09,131 ERROR [imdbpy] C:\\Users\\ASUS\\anaconda3\\lib\\site-packages\\imdb\\__init__.py:844: unknown information set \"genres\"\n",
      "2024-01-29 17:02:09,131 ERROR [imdbpy] C:\\Users\\ASUS\\anaconda3\\lib\\site-packages\\imdb\\__init__.py:844: unknown information set \"year\"\n"
     ]
    },
    {
     "name": "stdout",
     "output_type": "stream",
     "text": [
      "['title', 'year', 'imdbIndex', 'kind', 'cover url', 'localized title', 'cast', 'genres', 'runtimes', 'countries', 'country codes', 'language codes', 'color info', 'aspect ratio', 'sound mix', 'certificates', 'number of seasons', 'rating', 'votes', 'imdbID', 'videos', 'plot outline', 'languages', 'series years', 'original title', 'akas', 'seasons', 'writer', 'production companies', 'distributors', 'other companies', 'canonical title', 'long imdb title', 'long imdb canonical title', 'smart canonical title', 'smart long imdb canonical title', 'full-size cover url']\n"
     ]
    },
    {
     "data": {
      "application/vnd.plotly.v1+json": {
       "config": {
        "plotlyServerURL": "https://plot.ly"
       },
       "data": [
        {
         "hovertemplate": "Genres=Crime, Drama<br>Release Year=%{x}<br>IMDb Rating=%{y}<extra></extra>",
         "legendgroup": "Crime, Drama",
         "marker": {
          "color": "#636efa",
          "opacity": 0.6,
          "size": 8,
          "symbol": "circle"
         },
         "mode": "markers",
         "name": "Crime, Drama",
         "orientation": "v",
         "showlegend": true,
         "type": "scatter",
         "x": [
          1957,
          1997
         ],
         "xaxis": "x",
         "y": [
          9,
          7.8
         ],
         "yaxis": "y"
        },
        {
         "hovertemplate": "Genres=Animation, Action, Adventure, Comedy, Family<br>Release Year=%{x}<br>IMDb Rating=%{y}<extra></extra>",
         "legendgroup": "Animation, Action, Adventure, Comedy, Family",
         "marker": {
          "color": "#EF553B",
          "opacity": 0.6,
          "size": 8,
          "symbol": "circle"
         },
         "mode": "markers",
         "name": "Animation, Action, Adventure, Comedy, Family",
         "orientation": "v",
         "showlegend": true,
         "type": "scatter",
         "x": [
          2016,
          2019
         ],
         "xaxis": "x",
         "y": [
          6.3,
          6.4
         ],
         "yaxis": "y"
        },
        {
         "hovertemplate": "Genres=Action, Comedy, Fantasy, Thriller<br>Release Year=%{x}<br>IMDb Rating=%{y}<extra></extra>",
         "legendgroup": "Action, Comedy, Fantasy, Thriller",
         "marker": {
          "color": "#00cc96",
          "opacity": 0.6,
          "size": 8,
          "symbol": "circle"
         },
         "mode": "markers",
         "name": "Action, Comedy, Fantasy, Thriller",
         "orientation": "v",
         "showlegend": true,
         "type": "scatter",
         "x": [
          2011
         ],
         "xaxis": "x",
         "y": [
          5.4
         ],
         "yaxis": "y"
        },
        {
         "hovertemplate": "Genres=Music<br>Release Year=%{x}<br>IMDb Rating=%{y}<extra></extra>",
         "legendgroup": "Music",
         "marker": {
          "color": "#ab63fa",
          "opacity": 0.6,
          "size": 8,
          "symbol": "circle"
         },
         "mode": "markers",
         "name": "Music",
         "orientation": "v",
         "showlegend": true,
         "type": "scatter",
         "x": [
          2023
         ],
         "xaxis": "x",
         "y": [
          8
         ],
         "yaxis": "y"
        },
        {
         "hovertemplate": "Genres=Comedy<br>Release Year=%{x}<br>IMDb Rating=%{y}<extra></extra>",
         "legendgroup": "Comedy",
         "marker": {
          "color": "#FFA15A",
          "opacity": 0.6,
          "size": 8,
          "symbol": "circle"
         },
         "mode": "markers",
         "name": "Comedy",
         "orientation": "v",
         "showlegend": true,
         "type": "scatter",
         "x": [
          2022,
          2011,
          2004
         ],
         "xaxis": "x",
         "y": [
          4.2,
          7.7,
          8.5
         ],
         "yaxis": "y"
        },
        {
         "hovertemplate": "Genres=Comedy, Drama, Music, Musical<br>Release Year=%{x}<br>IMDb Rating=%{y}<extra></extra>",
         "legendgroup": "Comedy, Drama, Music, Musical",
         "marker": {
          "color": "#19d3f3",
          "opacity": 0.6,
          "size": 8,
          "symbol": "circle"
         },
         "mode": "markers",
         "name": "Comedy, Drama, Music, Musical",
         "orientation": "v",
         "showlegend": true,
         "type": "scatter",
         "x": [
          2001
         ],
         "xaxis": "x",
         "y": [
          7.7
         ],
         "yaxis": "y"
        },
        {
         "hovertemplate": "Genres=Drama, War, Thriller<br>Release Year=%{x}<br>IMDb Rating=%{y}<extra></extra>",
         "legendgroup": "Drama, War, Thriller",
         "marker": {
          "color": "#FF6692",
          "opacity": 0.6,
          "size": 8,
          "symbol": "circle"
         },
         "mode": "markers",
         "name": "Drama, War, Thriller",
         "orientation": "v",
         "showlegend": true,
         "type": "scatter",
         "x": [
          1959
         ],
         "xaxis": "x",
         "y": [
          5.7
         ],
         "yaxis": "y"
        },
        {
         "hovertemplate": "Genres=Animation, Adventure, Comedy, Family<br>Release Year=%{x}<br>IMDb Rating=%{y}<extra></extra>",
         "legendgroup": "Animation, Adventure, Comedy, Family",
         "marker": {
          "color": "#B6E880",
          "opacity": 0.6,
          "size": 8,
          "symbol": "circle"
         },
         "mode": "markers",
         "name": "Animation, Adventure, Comedy, Family",
         "orientation": "v",
         "showlegend": true,
         "type": "scatter",
         "x": [
          1997
         ],
         "xaxis": "x",
         "y": [
          7.2
         ],
         "yaxis": "y"
        },
        {
         "hovertemplate": "Genres=Adventure, Comedy, Sci-Fi<br>Release Year=%{x}<br>IMDb Rating=%{y}<extra></extra>",
         "legendgroup": "Adventure, Comedy, Sci-Fi",
         "marker": {
          "color": "#FF97FF",
          "opacity": 0.6,
          "size": 8,
          "symbol": "circle"
         },
         "mode": "markers",
         "name": "Adventure, Comedy, Sci-Fi",
         "orientation": "v",
         "showlegend": true,
         "type": "scatter",
         "x": [
          2014
         ],
         "xaxis": "x",
         "y": [
          5.5
         ],
         "yaxis": "y"
        },
        {
         "hovertemplate": "Genres=Comedy, Drama<br>Release Year=%{x}<br>IMDb Rating=%{y}<extra></extra>",
         "legendgroup": "Comedy, Drama",
         "marker": {
          "color": "#FECB52",
          "opacity": 0.6,
          "size": 8,
          "symbol": "circle"
         },
         "mode": "markers",
         "name": "Comedy, Drama",
         "orientation": "v",
         "showlegend": true,
         "type": "scatter",
         "x": [
          2022,
          2015
         ],
         "xaxis": "x",
         "y": [
          6.8,
          7.5
         ],
         "yaxis": "y"
        },
        {
         "hovertemplate": "Genres=Drama, Fantasy, Horror<br>Release Year=%{x}<br>IMDb Rating=%{y}<extra></extra>",
         "legendgroup": "Drama, Fantasy, Horror",
         "marker": {
          "color": "#636efa",
          "opacity": 0.6,
          "size": 8,
          "symbol": "circle"
         },
         "mode": "markers",
         "name": "Drama, Fantasy, Horror",
         "orientation": "v",
         "showlegend": true,
         "type": "scatter",
         "x": [
          2023
         ],
         "xaxis": "x",
         "y": [
          5.4
         ],
         "yaxis": "y"
        },
        {
         "hovertemplate": "Genres=Adventure, Horror, Sci-Fi<br>Release Year=%{x}<br>IMDb Rating=%{y}<extra></extra>",
         "legendgroup": "Adventure, Horror, Sci-Fi",
         "marker": {
          "color": "#EF553B",
          "opacity": 0.6,
          "size": 8,
          "symbol": "circle"
         },
         "mode": "markers",
         "name": "Adventure, Horror, Sci-Fi",
         "orientation": "v",
         "showlegend": true,
         "type": "scatter",
         "x": [
          1959
         ],
         "xaxis": "x",
         "y": [
          5.2
         ],
         "yaxis": "y"
        },
        {
         "hovertemplate": "Genres=Animation, Short, Comedy, Family<br>Release Year=%{x}<br>IMDb Rating=%{y}<extra></extra>",
         "legendgroup": "Animation, Short, Comedy, Family",
         "marker": {
          "color": "#00cc96",
          "opacity": 0.6,
          "size": 8,
          "symbol": "circle"
         },
         "mode": "markers",
         "name": "Animation, Short, Comedy, Family",
         "orientation": "v",
         "showlegend": true,
         "type": "scatter",
         "x": [
          2017
         ],
         "xaxis": "x",
         "y": [
          6.4
         ],
         "yaxis": "y"
        },
        {
         "hovertemplate": "Genres=Drama, Romance, War<br>Release Year=%{x}<br>IMDb Rating=%{y}<extra></extra>",
         "legendgroup": "Drama, Romance, War",
         "marker": {
          "color": "#ab63fa",
          "opacity": 0.6,
          "size": 8,
          "symbol": "circle"
         },
         "mode": "markers",
         "name": "Drama, Romance, War",
         "orientation": "v",
         "showlegend": true,
         "type": "scatter",
         "x": [
          1985
         ],
         "xaxis": "x",
         "y": [
          7.1
         ],
         "yaxis": "y"
        },
        {
         "hovertemplate": "Genres=Animation, Short, Action, Adventure, Comedy, Family, Fantasy<br>Release Year=%{x}<br>IMDb Rating=%{y}<extra></extra>",
         "legendgroup": "Animation, Short, Action, Adventure, Comedy, Family, Fantasy",
         "marker": {
          "color": "#FFA15A",
          "opacity": 0.6,
          "size": 8,
          "symbol": "circle"
         },
         "mode": "markers",
         "name": "Animation, Short, Action, Adventure, Comedy, Family, Fantasy",
         "orientation": "v",
         "showlegend": true,
         "type": "scatter",
         "x": [
          2014
         ],
         "xaxis": "x",
         "y": [
          6.3
         ],
         "yaxis": "y"
        }
       ],
       "layout": {
        "legend": {
         "title": {
          "text": "Genres"
         },
         "tracegroupgap": 0
        },
        "template": {
         "data": {
          "bar": [
           {
            "error_x": {
             "color": "#2a3f5f"
            },
            "error_y": {
             "color": "#2a3f5f"
            },
            "marker": {
             "line": {
              "color": "#E5ECF6",
              "width": 0.5
             },
             "pattern": {
              "fillmode": "overlay",
              "size": 10,
              "solidity": 0.2
             }
            },
            "type": "bar"
           }
          ],
          "barpolar": [
           {
            "marker": {
             "line": {
              "color": "#E5ECF6",
              "width": 0.5
             },
             "pattern": {
              "fillmode": "overlay",
              "size": 10,
              "solidity": 0.2
             }
            },
            "type": "barpolar"
           }
          ],
          "carpet": [
           {
            "aaxis": {
             "endlinecolor": "#2a3f5f",
             "gridcolor": "white",
             "linecolor": "white",
             "minorgridcolor": "white",
             "startlinecolor": "#2a3f5f"
            },
            "baxis": {
             "endlinecolor": "#2a3f5f",
             "gridcolor": "white",
             "linecolor": "white",
             "minorgridcolor": "white",
             "startlinecolor": "#2a3f5f"
            },
            "type": "carpet"
           }
          ],
          "choropleth": [
           {
            "colorbar": {
             "outlinewidth": 0,
             "ticks": ""
            },
            "type": "choropleth"
           }
          ],
          "contour": [
           {
            "colorbar": {
             "outlinewidth": 0,
             "ticks": ""
            },
            "colorscale": [
             [
              0,
              "#0d0887"
             ],
             [
              0.1111111111111111,
              "#46039f"
             ],
             [
              0.2222222222222222,
              "#7201a8"
             ],
             [
              0.3333333333333333,
              "#9c179e"
             ],
             [
              0.4444444444444444,
              "#bd3786"
             ],
             [
              0.5555555555555556,
              "#d8576b"
             ],
             [
              0.6666666666666666,
              "#ed7953"
             ],
             [
              0.7777777777777778,
              "#fb9f3a"
             ],
             [
              0.8888888888888888,
              "#fdca26"
             ],
             [
              1,
              "#f0f921"
             ]
            ],
            "type": "contour"
           }
          ],
          "contourcarpet": [
           {
            "colorbar": {
             "outlinewidth": 0,
             "ticks": ""
            },
            "type": "contourcarpet"
           }
          ],
          "heatmap": [
           {
            "colorbar": {
             "outlinewidth": 0,
             "ticks": ""
            },
            "colorscale": [
             [
              0,
              "#0d0887"
             ],
             [
              0.1111111111111111,
              "#46039f"
             ],
             [
              0.2222222222222222,
              "#7201a8"
             ],
             [
              0.3333333333333333,
              "#9c179e"
             ],
             [
              0.4444444444444444,
              "#bd3786"
             ],
             [
              0.5555555555555556,
              "#d8576b"
             ],
             [
              0.6666666666666666,
              "#ed7953"
             ],
             [
              0.7777777777777778,
              "#fb9f3a"
             ],
             [
              0.8888888888888888,
              "#fdca26"
             ],
             [
              1,
              "#f0f921"
             ]
            ],
            "type": "heatmap"
           }
          ],
          "heatmapgl": [
           {
            "colorbar": {
             "outlinewidth": 0,
             "ticks": ""
            },
            "colorscale": [
             [
              0,
              "#0d0887"
             ],
             [
              0.1111111111111111,
              "#46039f"
             ],
             [
              0.2222222222222222,
              "#7201a8"
             ],
             [
              0.3333333333333333,
              "#9c179e"
             ],
             [
              0.4444444444444444,
              "#bd3786"
             ],
             [
              0.5555555555555556,
              "#d8576b"
             ],
             [
              0.6666666666666666,
              "#ed7953"
             ],
             [
              0.7777777777777778,
              "#fb9f3a"
             ],
             [
              0.8888888888888888,
              "#fdca26"
             ],
             [
              1,
              "#f0f921"
             ]
            ],
            "type": "heatmapgl"
           }
          ],
          "histogram": [
           {
            "marker": {
             "pattern": {
              "fillmode": "overlay",
              "size": 10,
              "solidity": 0.2
             }
            },
            "type": "histogram"
           }
          ],
          "histogram2d": [
           {
            "colorbar": {
             "outlinewidth": 0,
             "ticks": ""
            },
            "colorscale": [
             [
              0,
              "#0d0887"
             ],
             [
              0.1111111111111111,
              "#46039f"
             ],
             [
              0.2222222222222222,
              "#7201a8"
             ],
             [
              0.3333333333333333,
              "#9c179e"
             ],
             [
              0.4444444444444444,
              "#bd3786"
             ],
             [
              0.5555555555555556,
              "#d8576b"
             ],
             [
              0.6666666666666666,
              "#ed7953"
             ],
             [
              0.7777777777777778,
              "#fb9f3a"
             ],
             [
              0.8888888888888888,
              "#fdca26"
             ],
             [
              1,
              "#f0f921"
             ]
            ],
            "type": "histogram2d"
           }
          ],
          "histogram2dcontour": [
           {
            "colorbar": {
             "outlinewidth": 0,
             "ticks": ""
            },
            "colorscale": [
             [
              0,
              "#0d0887"
             ],
             [
              0.1111111111111111,
              "#46039f"
             ],
             [
              0.2222222222222222,
              "#7201a8"
             ],
             [
              0.3333333333333333,
              "#9c179e"
             ],
             [
              0.4444444444444444,
              "#bd3786"
             ],
             [
              0.5555555555555556,
              "#d8576b"
             ],
             [
              0.6666666666666666,
              "#ed7953"
             ],
             [
              0.7777777777777778,
              "#fb9f3a"
             ],
             [
              0.8888888888888888,
              "#fdca26"
             ],
             [
              1,
              "#f0f921"
             ]
            ],
            "type": "histogram2dcontour"
           }
          ],
          "mesh3d": [
           {
            "colorbar": {
             "outlinewidth": 0,
             "ticks": ""
            },
            "type": "mesh3d"
           }
          ],
          "parcoords": [
           {
            "line": {
             "colorbar": {
              "outlinewidth": 0,
              "ticks": ""
             }
            },
            "type": "parcoords"
           }
          ],
          "pie": [
           {
            "automargin": true,
            "type": "pie"
           }
          ],
          "scatter": [
           {
            "fillpattern": {
             "fillmode": "overlay",
             "size": 10,
             "solidity": 0.2
            },
            "type": "scatter"
           }
          ],
          "scatter3d": [
           {
            "line": {
             "colorbar": {
              "outlinewidth": 0,
              "ticks": ""
             }
            },
            "marker": {
             "colorbar": {
              "outlinewidth": 0,
              "ticks": ""
             }
            },
            "type": "scatter3d"
           }
          ],
          "scattercarpet": [
           {
            "marker": {
             "colorbar": {
              "outlinewidth": 0,
              "ticks": ""
             }
            },
            "type": "scattercarpet"
           }
          ],
          "scattergeo": [
           {
            "marker": {
             "colorbar": {
              "outlinewidth": 0,
              "ticks": ""
             }
            },
            "type": "scattergeo"
           }
          ],
          "scattergl": [
           {
            "marker": {
             "colorbar": {
              "outlinewidth": 0,
              "ticks": ""
             }
            },
            "type": "scattergl"
           }
          ],
          "scattermapbox": [
           {
            "marker": {
             "colorbar": {
              "outlinewidth": 0,
              "ticks": ""
             }
            },
            "type": "scattermapbox"
           }
          ],
          "scatterpolar": [
           {
            "marker": {
             "colorbar": {
              "outlinewidth": 0,
              "ticks": ""
             }
            },
            "type": "scatterpolar"
           }
          ],
          "scatterpolargl": [
           {
            "marker": {
             "colorbar": {
              "outlinewidth": 0,
              "ticks": ""
             }
            },
            "type": "scatterpolargl"
           }
          ],
          "scatterternary": [
           {
            "marker": {
             "colorbar": {
              "outlinewidth": 0,
              "ticks": ""
             }
            },
            "type": "scatterternary"
           }
          ],
          "surface": [
           {
            "colorbar": {
             "outlinewidth": 0,
             "ticks": ""
            },
            "colorscale": [
             [
              0,
              "#0d0887"
             ],
             [
              0.1111111111111111,
              "#46039f"
             ],
             [
              0.2222222222222222,
              "#7201a8"
             ],
             [
              0.3333333333333333,
              "#9c179e"
             ],
             [
              0.4444444444444444,
              "#bd3786"
             ],
             [
              0.5555555555555556,
              "#d8576b"
             ],
             [
              0.6666666666666666,
              "#ed7953"
             ],
             [
              0.7777777777777778,
              "#fb9f3a"
             ],
             [
              0.8888888888888888,
              "#fdca26"
             ],
             [
              1,
              "#f0f921"
             ]
            ],
            "type": "surface"
           }
          ],
          "table": [
           {
            "cells": {
             "fill": {
              "color": "#EBF0F8"
             },
             "line": {
              "color": "white"
             }
            },
            "header": {
             "fill": {
              "color": "#C8D4E3"
             },
             "line": {
              "color": "white"
             }
            },
            "type": "table"
           }
          ]
         },
         "layout": {
          "annotationdefaults": {
           "arrowcolor": "#2a3f5f",
           "arrowhead": 0,
           "arrowwidth": 1
          },
          "autotypenumbers": "strict",
          "coloraxis": {
           "colorbar": {
            "outlinewidth": 0,
            "ticks": ""
           }
          },
          "colorscale": {
           "diverging": [
            [
             0,
             "#8e0152"
            ],
            [
             0.1,
             "#c51b7d"
            ],
            [
             0.2,
             "#de77ae"
            ],
            [
             0.3,
             "#f1b6da"
            ],
            [
             0.4,
             "#fde0ef"
            ],
            [
             0.5,
             "#f7f7f7"
            ],
            [
             0.6,
             "#e6f5d0"
            ],
            [
             0.7,
             "#b8e186"
            ],
            [
             0.8,
             "#7fbc41"
            ],
            [
             0.9,
             "#4d9221"
            ],
            [
             1,
             "#276419"
            ]
           ],
           "sequential": [
            [
             0,
             "#0d0887"
            ],
            [
             0.1111111111111111,
             "#46039f"
            ],
            [
             0.2222222222222222,
             "#7201a8"
            ],
            [
             0.3333333333333333,
             "#9c179e"
            ],
            [
             0.4444444444444444,
             "#bd3786"
            ],
            [
             0.5555555555555556,
             "#d8576b"
            ],
            [
             0.6666666666666666,
             "#ed7953"
            ],
            [
             0.7777777777777778,
             "#fb9f3a"
            ],
            [
             0.8888888888888888,
             "#fdca26"
            ],
            [
             1,
             "#f0f921"
            ]
           ],
           "sequentialminus": [
            [
             0,
             "#0d0887"
            ],
            [
             0.1111111111111111,
             "#46039f"
            ],
            [
             0.2222222222222222,
             "#7201a8"
            ],
            [
             0.3333333333333333,
             "#9c179e"
            ],
            [
             0.4444444444444444,
             "#bd3786"
            ],
            [
             0.5555555555555556,
             "#d8576b"
            ],
            [
             0.6666666666666666,
             "#ed7953"
            ],
            [
             0.7777777777777778,
             "#fb9f3a"
            ],
            [
             0.8888888888888888,
             "#fdca26"
            ],
            [
             1,
             "#f0f921"
            ]
           ]
          },
          "colorway": [
           "#636efa",
           "#EF553B",
           "#00cc96",
           "#ab63fa",
           "#FFA15A",
           "#19d3f3",
           "#FF6692",
           "#B6E880",
           "#FF97FF",
           "#FECB52"
          ],
          "font": {
           "color": "#2a3f5f"
          },
          "geo": {
           "bgcolor": "white",
           "lakecolor": "white",
           "landcolor": "#E5ECF6",
           "showlakes": true,
           "showland": true,
           "subunitcolor": "white"
          },
          "hoverlabel": {
           "align": "left"
          },
          "hovermode": "closest",
          "mapbox": {
           "style": "light"
          },
          "paper_bgcolor": "white",
          "plot_bgcolor": "#E5ECF6",
          "polar": {
           "angularaxis": {
            "gridcolor": "white",
            "linecolor": "white",
            "ticks": ""
           },
           "bgcolor": "#E5ECF6",
           "radialaxis": {
            "gridcolor": "white",
            "linecolor": "white",
            "ticks": ""
           }
          },
          "scene": {
           "xaxis": {
            "backgroundcolor": "#E5ECF6",
            "gridcolor": "white",
            "gridwidth": 2,
            "linecolor": "white",
            "showbackground": true,
            "ticks": "",
            "zerolinecolor": "white"
           },
           "yaxis": {
            "backgroundcolor": "#E5ECF6",
            "gridcolor": "white",
            "gridwidth": 2,
            "linecolor": "white",
            "showbackground": true,
            "ticks": "",
            "zerolinecolor": "white"
           },
           "zaxis": {
            "backgroundcolor": "#E5ECF6",
            "gridcolor": "white",
            "gridwidth": 2,
            "linecolor": "white",
            "showbackground": true,
            "ticks": "",
            "zerolinecolor": "white"
           }
          },
          "shapedefaults": {
           "line": {
            "color": "#2a3f5f"
           }
          },
          "ternary": {
           "aaxis": {
            "gridcolor": "white",
            "linecolor": "white",
            "ticks": ""
           },
           "baxis": {
            "gridcolor": "white",
            "linecolor": "white",
            "ticks": ""
           },
           "bgcolor": "#E5ECF6",
           "caxis": {
            "gridcolor": "white",
            "linecolor": "white",
            "ticks": ""
           }
          },
          "title": {
           "x": 0.05
          },
          "xaxis": {
           "automargin": true,
           "gridcolor": "white",
           "linecolor": "white",
           "ticks": "",
           "title": {
            "standoff": 15
           },
           "zerolinecolor": "white",
           "zerolinewidth": 2
          },
          "yaxis": {
           "automargin": true,
           "gridcolor": "white",
           "linecolor": "white",
           "ticks": "",
           "title": {
            "standoff": 15
           },
           "zerolinecolor": "white",
           "zerolinewidth": 2
          }
         }
        },
        "title": {
         "text": "Scatter Plot for angry"
        },
        "xaxis": {
         "anchor": "y",
         "domain": [
          0,
          1
         ],
         "title": {
          "text": "Release Year"
         }
        },
        "yaxis": {
         "anchor": "x",
         "domain": [
          0,
          1
         ],
         "title": {
          "text": "IMDb Rating"
         }
        }
       }
      },
      "text/html": [
       "<div>                            <div id=\"97a6e6f6-148e-48be-8077-3973703d622b\" class=\"plotly-graph-div\" style=\"height:525px; width:100%;\"></div>            <script type=\"text/javascript\">                require([\"plotly\"], function(Plotly) {                    window.PLOTLYENV=window.PLOTLYENV || {};                                    if (document.getElementById(\"97a6e6f6-148e-48be-8077-3973703d622b\")) {                    Plotly.newPlot(                        \"97a6e6f6-148e-48be-8077-3973703d622b\",                        [{\"hovertemplate\":\"Genres=Crime, Drama<br>Release Year=%{x}<br>IMDb Rating=%{y}<extra></extra>\",\"legendgroup\":\"Crime, Drama\",\"marker\":{\"color\":\"#636efa\",\"symbol\":\"circle\",\"opacity\":0.6,\"size\":8},\"mode\":\"markers\",\"name\":\"Crime, Drama\",\"orientation\":\"v\",\"showlegend\":true,\"x\":[1957,1997],\"xaxis\":\"x\",\"y\":[9.0,7.8],\"yaxis\":\"y\",\"type\":\"scatter\"},{\"hovertemplate\":\"Genres=Animation, Action, Adventure, Comedy, Family<br>Release Year=%{x}<br>IMDb Rating=%{y}<extra></extra>\",\"legendgroup\":\"Animation, Action, Adventure, Comedy, Family\",\"marker\":{\"color\":\"#EF553B\",\"symbol\":\"circle\",\"opacity\":0.6,\"size\":8},\"mode\":\"markers\",\"name\":\"Animation, Action, Adventure, Comedy, Family\",\"orientation\":\"v\",\"showlegend\":true,\"x\":[2016,2019],\"xaxis\":\"x\",\"y\":[6.3,6.4],\"yaxis\":\"y\",\"type\":\"scatter\"},{\"hovertemplate\":\"Genres=Action, Comedy, Fantasy, Thriller<br>Release Year=%{x}<br>IMDb Rating=%{y}<extra></extra>\",\"legendgroup\":\"Action, Comedy, Fantasy, Thriller\",\"marker\":{\"color\":\"#00cc96\",\"symbol\":\"circle\",\"opacity\":0.6,\"size\":8},\"mode\":\"markers\",\"name\":\"Action, Comedy, Fantasy, Thriller\",\"orientation\":\"v\",\"showlegend\":true,\"x\":[2011],\"xaxis\":\"x\",\"y\":[5.4],\"yaxis\":\"y\",\"type\":\"scatter\"},{\"hovertemplate\":\"Genres=Music<br>Release Year=%{x}<br>IMDb Rating=%{y}<extra></extra>\",\"legendgroup\":\"Music\",\"marker\":{\"color\":\"#ab63fa\",\"symbol\":\"circle\",\"opacity\":0.6,\"size\":8},\"mode\":\"markers\",\"name\":\"Music\",\"orientation\":\"v\",\"showlegend\":true,\"x\":[2023],\"xaxis\":\"x\",\"y\":[8.0],\"yaxis\":\"y\",\"type\":\"scatter\"},{\"hovertemplate\":\"Genres=Comedy<br>Release Year=%{x}<br>IMDb Rating=%{y}<extra></extra>\",\"legendgroup\":\"Comedy\",\"marker\":{\"color\":\"#FFA15A\",\"symbol\":\"circle\",\"opacity\":0.6,\"size\":8},\"mode\":\"markers\",\"name\":\"Comedy\",\"orientation\":\"v\",\"showlegend\":true,\"x\":[2022,2011,2004],\"xaxis\":\"x\",\"y\":[4.2,7.7,8.5],\"yaxis\":\"y\",\"type\":\"scatter\"},{\"hovertemplate\":\"Genres=Comedy, Drama, Music, Musical<br>Release Year=%{x}<br>IMDb Rating=%{y}<extra></extra>\",\"legendgroup\":\"Comedy, Drama, Music, Musical\",\"marker\":{\"color\":\"#19d3f3\",\"symbol\":\"circle\",\"opacity\":0.6,\"size\":8},\"mode\":\"markers\",\"name\":\"Comedy, Drama, Music, Musical\",\"orientation\":\"v\",\"showlegend\":true,\"x\":[2001],\"xaxis\":\"x\",\"y\":[7.7],\"yaxis\":\"y\",\"type\":\"scatter\"},{\"hovertemplate\":\"Genres=Drama, War, Thriller<br>Release Year=%{x}<br>IMDb Rating=%{y}<extra></extra>\",\"legendgroup\":\"Drama, War, Thriller\",\"marker\":{\"color\":\"#FF6692\",\"symbol\":\"circle\",\"opacity\":0.6,\"size\":8},\"mode\":\"markers\",\"name\":\"Drama, War, Thriller\",\"orientation\":\"v\",\"showlegend\":true,\"x\":[1959],\"xaxis\":\"x\",\"y\":[5.7],\"yaxis\":\"y\",\"type\":\"scatter\"},{\"hovertemplate\":\"Genres=Animation, Adventure, Comedy, Family<br>Release Year=%{x}<br>IMDb Rating=%{y}<extra></extra>\",\"legendgroup\":\"Animation, Adventure, Comedy, Family\",\"marker\":{\"color\":\"#B6E880\",\"symbol\":\"circle\",\"opacity\":0.6,\"size\":8},\"mode\":\"markers\",\"name\":\"Animation, Adventure, Comedy, Family\",\"orientation\":\"v\",\"showlegend\":true,\"x\":[1997],\"xaxis\":\"x\",\"y\":[7.2],\"yaxis\":\"y\",\"type\":\"scatter\"},{\"hovertemplate\":\"Genres=Adventure, Comedy, Sci-Fi<br>Release Year=%{x}<br>IMDb Rating=%{y}<extra></extra>\",\"legendgroup\":\"Adventure, Comedy, Sci-Fi\",\"marker\":{\"color\":\"#FF97FF\",\"symbol\":\"circle\",\"opacity\":0.6,\"size\":8},\"mode\":\"markers\",\"name\":\"Adventure, Comedy, Sci-Fi\",\"orientation\":\"v\",\"showlegend\":true,\"x\":[2014],\"xaxis\":\"x\",\"y\":[5.5],\"yaxis\":\"y\",\"type\":\"scatter\"},{\"hovertemplate\":\"Genres=Comedy, Drama<br>Release Year=%{x}<br>IMDb Rating=%{y}<extra></extra>\",\"legendgroup\":\"Comedy, Drama\",\"marker\":{\"color\":\"#FECB52\",\"symbol\":\"circle\",\"opacity\":0.6,\"size\":8},\"mode\":\"markers\",\"name\":\"Comedy, Drama\",\"orientation\":\"v\",\"showlegend\":true,\"x\":[2022,2015],\"xaxis\":\"x\",\"y\":[6.8,7.5],\"yaxis\":\"y\",\"type\":\"scatter\"},{\"hovertemplate\":\"Genres=Drama, Fantasy, Horror<br>Release Year=%{x}<br>IMDb Rating=%{y}<extra></extra>\",\"legendgroup\":\"Drama, Fantasy, Horror\",\"marker\":{\"color\":\"#636efa\",\"symbol\":\"circle\",\"opacity\":0.6,\"size\":8},\"mode\":\"markers\",\"name\":\"Drama, Fantasy, Horror\",\"orientation\":\"v\",\"showlegend\":true,\"x\":[2023],\"xaxis\":\"x\",\"y\":[5.4],\"yaxis\":\"y\",\"type\":\"scatter\"},{\"hovertemplate\":\"Genres=Adventure, Horror, Sci-Fi<br>Release Year=%{x}<br>IMDb Rating=%{y}<extra></extra>\",\"legendgroup\":\"Adventure, Horror, Sci-Fi\",\"marker\":{\"color\":\"#EF553B\",\"symbol\":\"circle\",\"opacity\":0.6,\"size\":8},\"mode\":\"markers\",\"name\":\"Adventure, Horror, Sci-Fi\",\"orientation\":\"v\",\"showlegend\":true,\"x\":[1959],\"xaxis\":\"x\",\"y\":[5.2],\"yaxis\":\"y\",\"type\":\"scatter\"},{\"hovertemplate\":\"Genres=Animation, Short, Comedy, Family<br>Release Year=%{x}<br>IMDb Rating=%{y}<extra></extra>\",\"legendgroup\":\"Animation, Short, Comedy, Family\",\"marker\":{\"color\":\"#00cc96\",\"symbol\":\"circle\",\"opacity\":0.6,\"size\":8},\"mode\":\"markers\",\"name\":\"Animation, Short, Comedy, Family\",\"orientation\":\"v\",\"showlegend\":true,\"x\":[2017],\"xaxis\":\"x\",\"y\":[6.4],\"yaxis\":\"y\",\"type\":\"scatter\"},{\"hovertemplate\":\"Genres=Drama, Romance, War<br>Release Year=%{x}<br>IMDb Rating=%{y}<extra></extra>\",\"legendgroup\":\"Drama, Romance, War\",\"marker\":{\"color\":\"#ab63fa\",\"symbol\":\"circle\",\"opacity\":0.6,\"size\":8},\"mode\":\"markers\",\"name\":\"Drama, Romance, War\",\"orientation\":\"v\",\"showlegend\":true,\"x\":[1985],\"xaxis\":\"x\",\"y\":[7.1],\"yaxis\":\"y\",\"type\":\"scatter\"},{\"hovertemplate\":\"Genres=Animation, Short, Action, Adventure, Comedy, Family, Fantasy<br>Release Year=%{x}<br>IMDb Rating=%{y}<extra></extra>\",\"legendgroup\":\"Animation, Short, Action, Adventure, Comedy, Family, Fantasy\",\"marker\":{\"color\":\"#FFA15A\",\"symbol\":\"circle\",\"opacity\":0.6,\"size\":8},\"mode\":\"markers\",\"name\":\"Animation, Short, Action, Adventure, Comedy, Family, Fantasy\",\"orientation\":\"v\",\"showlegend\":true,\"x\":[2014],\"xaxis\":\"x\",\"y\":[6.3],\"yaxis\":\"y\",\"type\":\"scatter\"}],                        {\"template\":{\"data\":{\"histogram2dcontour\":[{\"type\":\"histogram2dcontour\",\"colorbar\":{\"outlinewidth\":0,\"ticks\":\"\"},\"colorscale\":[[0.0,\"#0d0887\"],[0.1111111111111111,\"#46039f\"],[0.2222222222222222,\"#7201a8\"],[0.3333333333333333,\"#9c179e\"],[0.4444444444444444,\"#bd3786\"],[0.5555555555555556,\"#d8576b\"],[0.6666666666666666,\"#ed7953\"],[0.7777777777777778,\"#fb9f3a\"],[0.8888888888888888,\"#fdca26\"],[1.0,\"#f0f921\"]]}],\"choropleth\":[{\"type\":\"choropleth\",\"colorbar\":{\"outlinewidth\":0,\"ticks\":\"\"}}],\"histogram2d\":[{\"type\":\"histogram2d\",\"colorbar\":{\"outlinewidth\":0,\"ticks\":\"\"},\"colorscale\":[[0.0,\"#0d0887\"],[0.1111111111111111,\"#46039f\"],[0.2222222222222222,\"#7201a8\"],[0.3333333333333333,\"#9c179e\"],[0.4444444444444444,\"#bd3786\"],[0.5555555555555556,\"#d8576b\"],[0.6666666666666666,\"#ed7953\"],[0.7777777777777778,\"#fb9f3a\"],[0.8888888888888888,\"#fdca26\"],[1.0,\"#f0f921\"]]}],\"heatmap\":[{\"type\":\"heatmap\",\"colorbar\":{\"outlinewidth\":0,\"ticks\":\"\"},\"colorscale\":[[0.0,\"#0d0887\"],[0.1111111111111111,\"#46039f\"],[0.2222222222222222,\"#7201a8\"],[0.3333333333333333,\"#9c179e\"],[0.4444444444444444,\"#bd3786\"],[0.5555555555555556,\"#d8576b\"],[0.6666666666666666,\"#ed7953\"],[0.7777777777777778,\"#fb9f3a\"],[0.8888888888888888,\"#fdca26\"],[1.0,\"#f0f921\"]]}],\"heatmapgl\":[{\"type\":\"heatmapgl\",\"colorbar\":{\"outlinewidth\":0,\"ticks\":\"\"},\"colorscale\":[[0.0,\"#0d0887\"],[0.1111111111111111,\"#46039f\"],[0.2222222222222222,\"#7201a8\"],[0.3333333333333333,\"#9c179e\"],[0.4444444444444444,\"#bd3786\"],[0.5555555555555556,\"#d8576b\"],[0.6666666666666666,\"#ed7953\"],[0.7777777777777778,\"#fb9f3a\"],[0.8888888888888888,\"#fdca26\"],[1.0,\"#f0f921\"]]}],\"contourcarpet\":[{\"type\":\"contourcarpet\",\"colorbar\":{\"outlinewidth\":0,\"ticks\":\"\"}}],\"contour\":[{\"type\":\"contour\",\"colorbar\":{\"outlinewidth\":0,\"ticks\":\"\"},\"colorscale\":[[0.0,\"#0d0887\"],[0.1111111111111111,\"#46039f\"],[0.2222222222222222,\"#7201a8\"],[0.3333333333333333,\"#9c179e\"],[0.4444444444444444,\"#bd3786\"],[0.5555555555555556,\"#d8576b\"],[0.6666666666666666,\"#ed7953\"],[0.7777777777777778,\"#fb9f3a\"],[0.8888888888888888,\"#fdca26\"],[1.0,\"#f0f921\"]]}],\"surface\":[{\"type\":\"surface\",\"colorbar\":{\"outlinewidth\":0,\"ticks\":\"\"},\"colorscale\":[[0.0,\"#0d0887\"],[0.1111111111111111,\"#46039f\"],[0.2222222222222222,\"#7201a8\"],[0.3333333333333333,\"#9c179e\"],[0.4444444444444444,\"#bd3786\"],[0.5555555555555556,\"#d8576b\"],[0.6666666666666666,\"#ed7953\"],[0.7777777777777778,\"#fb9f3a\"],[0.8888888888888888,\"#fdca26\"],[1.0,\"#f0f921\"]]}],\"mesh3d\":[{\"type\":\"mesh3d\",\"colorbar\":{\"outlinewidth\":0,\"ticks\":\"\"}}],\"scatter\":[{\"fillpattern\":{\"fillmode\":\"overlay\",\"size\":10,\"solidity\":0.2},\"type\":\"scatter\"}],\"parcoords\":[{\"type\":\"parcoords\",\"line\":{\"colorbar\":{\"outlinewidth\":0,\"ticks\":\"\"}}}],\"scatterpolargl\":[{\"type\":\"scatterpolargl\",\"marker\":{\"colorbar\":{\"outlinewidth\":0,\"ticks\":\"\"}}}],\"bar\":[{\"error_x\":{\"color\":\"#2a3f5f\"},\"error_y\":{\"color\":\"#2a3f5f\"},\"marker\":{\"line\":{\"color\":\"#E5ECF6\",\"width\":0.5},\"pattern\":{\"fillmode\":\"overlay\",\"size\":10,\"solidity\":0.2}},\"type\":\"bar\"}],\"scattergeo\":[{\"type\":\"scattergeo\",\"marker\":{\"colorbar\":{\"outlinewidth\":0,\"ticks\":\"\"}}}],\"scatterpolar\":[{\"type\":\"scatterpolar\",\"marker\":{\"colorbar\":{\"outlinewidth\":0,\"ticks\":\"\"}}}],\"histogram\":[{\"marker\":{\"pattern\":{\"fillmode\":\"overlay\",\"size\":10,\"solidity\":0.2}},\"type\":\"histogram\"}],\"scattergl\":[{\"type\":\"scattergl\",\"marker\":{\"colorbar\":{\"outlinewidth\":0,\"ticks\":\"\"}}}],\"scatter3d\":[{\"type\":\"scatter3d\",\"line\":{\"colorbar\":{\"outlinewidth\":0,\"ticks\":\"\"}},\"marker\":{\"colorbar\":{\"outlinewidth\":0,\"ticks\":\"\"}}}],\"scattermapbox\":[{\"type\":\"scattermapbox\",\"marker\":{\"colorbar\":{\"outlinewidth\":0,\"ticks\":\"\"}}}],\"scatterternary\":[{\"type\":\"scatterternary\",\"marker\":{\"colorbar\":{\"outlinewidth\":0,\"ticks\":\"\"}}}],\"scattercarpet\":[{\"type\":\"scattercarpet\",\"marker\":{\"colorbar\":{\"outlinewidth\":0,\"ticks\":\"\"}}}],\"carpet\":[{\"aaxis\":{\"endlinecolor\":\"#2a3f5f\",\"gridcolor\":\"white\",\"linecolor\":\"white\",\"minorgridcolor\":\"white\",\"startlinecolor\":\"#2a3f5f\"},\"baxis\":{\"endlinecolor\":\"#2a3f5f\",\"gridcolor\":\"white\",\"linecolor\":\"white\",\"minorgridcolor\":\"white\",\"startlinecolor\":\"#2a3f5f\"},\"type\":\"carpet\"}],\"table\":[{\"cells\":{\"fill\":{\"color\":\"#EBF0F8\"},\"line\":{\"color\":\"white\"}},\"header\":{\"fill\":{\"color\":\"#C8D4E3\"},\"line\":{\"color\":\"white\"}},\"type\":\"table\"}],\"barpolar\":[{\"marker\":{\"line\":{\"color\":\"#E5ECF6\",\"width\":0.5},\"pattern\":{\"fillmode\":\"overlay\",\"size\":10,\"solidity\":0.2}},\"type\":\"barpolar\"}],\"pie\":[{\"automargin\":true,\"type\":\"pie\"}]},\"layout\":{\"autotypenumbers\":\"strict\",\"colorway\":[\"#636efa\",\"#EF553B\",\"#00cc96\",\"#ab63fa\",\"#FFA15A\",\"#19d3f3\",\"#FF6692\",\"#B6E880\",\"#FF97FF\",\"#FECB52\"],\"font\":{\"color\":\"#2a3f5f\"},\"hovermode\":\"closest\",\"hoverlabel\":{\"align\":\"left\"},\"paper_bgcolor\":\"white\",\"plot_bgcolor\":\"#E5ECF6\",\"polar\":{\"bgcolor\":\"#E5ECF6\",\"angularaxis\":{\"gridcolor\":\"white\",\"linecolor\":\"white\",\"ticks\":\"\"},\"radialaxis\":{\"gridcolor\":\"white\",\"linecolor\":\"white\",\"ticks\":\"\"}},\"ternary\":{\"bgcolor\":\"#E5ECF6\",\"aaxis\":{\"gridcolor\":\"white\",\"linecolor\":\"white\",\"ticks\":\"\"},\"baxis\":{\"gridcolor\":\"white\",\"linecolor\":\"white\",\"ticks\":\"\"},\"caxis\":{\"gridcolor\":\"white\",\"linecolor\":\"white\",\"ticks\":\"\"}},\"coloraxis\":{\"colorbar\":{\"outlinewidth\":0,\"ticks\":\"\"}},\"colorscale\":{\"sequential\":[[0.0,\"#0d0887\"],[0.1111111111111111,\"#46039f\"],[0.2222222222222222,\"#7201a8\"],[0.3333333333333333,\"#9c179e\"],[0.4444444444444444,\"#bd3786\"],[0.5555555555555556,\"#d8576b\"],[0.6666666666666666,\"#ed7953\"],[0.7777777777777778,\"#fb9f3a\"],[0.8888888888888888,\"#fdca26\"],[1.0,\"#f0f921\"]],\"sequentialminus\":[[0.0,\"#0d0887\"],[0.1111111111111111,\"#46039f\"],[0.2222222222222222,\"#7201a8\"],[0.3333333333333333,\"#9c179e\"],[0.4444444444444444,\"#bd3786\"],[0.5555555555555556,\"#d8576b\"],[0.6666666666666666,\"#ed7953\"],[0.7777777777777778,\"#fb9f3a\"],[0.8888888888888888,\"#fdca26\"],[1.0,\"#f0f921\"]],\"diverging\":[[0,\"#8e0152\"],[0.1,\"#c51b7d\"],[0.2,\"#de77ae\"],[0.3,\"#f1b6da\"],[0.4,\"#fde0ef\"],[0.5,\"#f7f7f7\"],[0.6,\"#e6f5d0\"],[0.7,\"#b8e186\"],[0.8,\"#7fbc41\"],[0.9,\"#4d9221\"],[1,\"#276419\"]]},\"xaxis\":{\"gridcolor\":\"white\",\"linecolor\":\"white\",\"ticks\":\"\",\"title\":{\"standoff\":15},\"zerolinecolor\":\"white\",\"automargin\":true,\"zerolinewidth\":2},\"yaxis\":{\"gridcolor\":\"white\",\"linecolor\":\"white\",\"ticks\":\"\",\"title\":{\"standoff\":15},\"zerolinecolor\":\"white\",\"automargin\":true,\"zerolinewidth\":2},\"scene\":{\"xaxis\":{\"backgroundcolor\":\"#E5ECF6\",\"gridcolor\":\"white\",\"linecolor\":\"white\",\"showbackground\":true,\"ticks\":\"\",\"zerolinecolor\":\"white\",\"gridwidth\":2},\"yaxis\":{\"backgroundcolor\":\"#E5ECF6\",\"gridcolor\":\"white\",\"linecolor\":\"white\",\"showbackground\":true,\"ticks\":\"\",\"zerolinecolor\":\"white\",\"gridwidth\":2},\"zaxis\":{\"backgroundcolor\":\"#E5ECF6\",\"gridcolor\":\"white\",\"linecolor\":\"white\",\"showbackground\":true,\"ticks\":\"\",\"zerolinecolor\":\"white\",\"gridwidth\":2}},\"shapedefaults\":{\"line\":{\"color\":\"#2a3f5f\"}},\"annotationdefaults\":{\"arrowcolor\":\"#2a3f5f\",\"arrowhead\":0,\"arrowwidth\":1},\"geo\":{\"bgcolor\":\"white\",\"landcolor\":\"#E5ECF6\",\"subunitcolor\":\"white\",\"showland\":true,\"showlakes\":true,\"lakecolor\":\"white\"},\"title\":{\"x\":0.05},\"mapbox\":{\"style\":\"light\"}}},\"xaxis\":{\"anchor\":\"y\",\"domain\":[0.0,1.0],\"title\":{\"text\":\"Release Year\"}},\"yaxis\":{\"anchor\":\"x\",\"domain\":[0.0,1.0],\"title\":{\"text\":\"IMDb Rating\"}},\"legend\":{\"title\":{\"text\":\"Genres\"},\"tracegroupgap\":0},\"title\":{\"text\":\"Scatter Plot for angry\"}},                        {\"responsive\": true}                    ).then(function(){\n",
       "                            \n",
       "var gd = document.getElementById('97a6e6f6-148e-48be-8077-3973703d622b');\n",
       "var x = new MutationObserver(function (mutations, observer) {{\n",
       "        var display = window.getComputedStyle(gd).display;\n",
       "        if (!display || display === 'none') {{\n",
       "            console.log([gd, 'removed!']);\n",
       "            Plotly.purge(gd);\n",
       "            observer.disconnect();\n",
       "        }}\n",
       "}});\n",
       "\n",
       "// Listen for the removal of the full notebook cells\n",
       "var notebookContainer = gd.closest('#notebook-container');\n",
       "if (notebookContainer) {{\n",
       "    x.observe(notebookContainer, {childList: true});\n",
       "}}\n",
       "\n",
       "// Listen for the clearing of the current output cell\n",
       "var outputEl = gd.closest('.output');\n",
       "if (outputEl) {{\n",
       "    x.observe(outputEl, {childList: true});\n",
       "}}\n",
       "\n",
       "                        })                };                });            </script>        </div>"
      ]
     },
     "metadata": {},
     "output_type": "display_data"
    },
    {
     "data": {
      "application/vnd.plotly.v1+json": {
       "config": {
        "plotlyServerURL": "https://plot.ly"
       },
       "data": [
        {
         "alignmentgroup": "True",
         "hovertemplate": "Movie Genres=%{x}<br>Number of Movies=%{y}<extra></extra>",
         "legendgroup": "",
         "marker": {
          "color": "skyblue",
          "line": {
           "color": "black",
           "width": 2
          },
          "pattern": {
           "shape": ""
          }
         },
         "name": "",
         "offsetgroup": "",
         "orientation": "v",
         "showlegend": false,
         "textposition": "auto",
         "type": "bar",
         "x": [
          "Crime, Drama",
          "Animation, Action, Adventure, Comedy, Family",
          "Action, Comedy, Fantasy, Thriller",
          "Music",
          "Crime, Drama",
          "Animation, Action, Adventure, Comedy, Family",
          "Comedy",
          "Comedy, Drama, Music, Musical",
          "Drama, War, Thriller",
          "Animation, Adventure, Comedy, Family",
          "Comedy",
          "Adventure, Comedy, Sci-Fi",
          "Comedy, Drama",
          "Comedy, Drama",
          "Comedy",
          "Drama, Fantasy, Horror",
          "Adventure, Horror, Sci-Fi",
          "Animation, Short, Comedy, Family",
          "Drama, Romance, War",
          "Animation, Short, Action, Adventure, Comedy, Family, Fantasy"
         ],
         "xaxis": "x",
         "y": [
          1,
          1,
          1,
          1,
          1,
          1,
          1,
          1,
          1,
          1,
          1,
          1,
          1,
          1,
          1,
          1,
          1,
          1,
          1,
          1
         ],
         "yaxis": "y"
        }
       ],
       "layout": {
        "barmode": "relative",
        "legend": {
         "tracegroupgap": 0
        },
        "template": {
         "data": {
          "bar": [
           {
            "error_x": {
             "color": "#2a3f5f"
            },
            "error_y": {
             "color": "#2a3f5f"
            },
            "marker": {
             "line": {
              "color": "#E5ECF6",
              "width": 0.5
             },
             "pattern": {
              "fillmode": "overlay",
              "size": 10,
              "solidity": 0.2
             }
            },
            "type": "bar"
           }
          ],
          "barpolar": [
           {
            "marker": {
             "line": {
              "color": "#E5ECF6",
              "width": 0.5
             },
             "pattern": {
              "fillmode": "overlay",
              "size": 10,
              "solidity": 0.2
             }
            },
            "type": "barpolar"
           }
          ],
          "carpet": [
           {
            "aaxis": {
             "endlinecolor": "#2a3f5f",
             "gridcolor": "white",
             "linecolor": "white",
             "minorgridcolor": "white",
             "startlinecolor": "#2a3f5f"
            },
            "baxis": {
             "endlinecolor": "#2a3f5f",
             "gridcolor": "white",
             "linecolor": "white",
             "minorgridcolor": "white",
             "startlinecolor": "#2a3f5f"
            },
            "type": "carpet"
           }
          ],
          "choropleth": [
           {
            "colorbar": {
             "outlinewidth": 0,
             "ticks": ""
            },
            "type": "choropleth"
           }
          ],
          "contour": [
           {
            "colorbar": {
             "outlinewidth": 0,
             "ticks": ""
            },
            "colorscale": [
             [
              0,
              "#0d0887"
             ],
             [
              0.1111111111111111,
              "#46039f"
             ],
             [
              0.2222222222222222,
              "#7201a8"
             ],
             [
              0.3333333333333333,
              "#9c179e"
             ],
             [
              0.4444444444444444,
              "#bd3786"
             ],
             [
              0.5555555555555556,
              "#d8576b"
             ],
             [
              0.6666666666666666,
              "#ed7953"
             ],
             [
              0.7777777777777778,
              "#fb9f3a"
             ],
             [
              0.8888888888888888,
              "#fdca26"
             ],
             [
              1,
              "#f0f921"
             ]
            ],
            "type": "contour"
           }
          ],
          "contourcarpet": [
           {
            "colorbar": {
             "outlinewidth": 0,
             "ticks": ""
            },
            "type": "contourcarpet"
           }
          ],
          "heatmap": [
           {
            "colorbar": {
             "outlinewidth": 0,
             "ticks": ""
            },
            "colorscale": [
             [
              0,
              "#0d0887"
             ],
             [
              0.1111111111111111,
              "#46039f"
             ],
             [
              0.2222222222222222,
              "#7201a8"
             ],
             [
              0.3333333333333333,
              "#9c179e"
             ],
             [
              0.4444444444444444,
              "#bd3786"
             ],
             [
              0.5555555555555556,
              "#d8576b"
             ],
             [
              0.6666666666666666,
              "#ed7953"
             ],
             [
              0.7777777777777778,
              "#fb9f3a"
             ],
             [
              0.8888888888888888,
              "#fdca26"
             ],
             [
              1,
              "#f0f921"
             ]
            ],
            "type": "heatmap"
           }
          ],
          "heatmapgl": [
           {
            "colorbar": {
             "outlinewidth": 0,
             "ticks": ""
            },
            "colorscale": [
             [
              0,
              "#0d0887"
             ],
             [
              0.1111111111111111,
              "#46039f"
             ],
             [
              0.2222222222222222,
              "#7201a8"
             ],
             [
              0.3333333333333333,
              "#9c179e"
             ],
             [
              0.4444444444444444,
              "#bd3786"
             ],
             [
              0.5555555555555556,
              "#d8576b"
             ],
             [
              0.6666666666666666,
              "#ed7953"
             ],
             [
              0.7777777777777778,
              "#fb9f3a"
             ],
             [
              0.8888888888888888,
              "#fdca26"
             ],
             [
              1,
              "#f0f921"
             ]
            ],
            "type": "heatmapgl"
           }
          ],
          "histogram": [
           {
            "marker": {
             "pattern": {
              "fillmode": "overlay",
              "size": 10,
              "solidity": 0.2
             }
            },
            "type": "histogram"
           }
          ],
          "histogram2d": [
           {
            "colorbar": {
             "outlinewidth": 0,
             "ticks": ""
            },
            "colorscale": [
             [
              0,
              "#0d0887"
             ],
             [
              0.1111111111111111,
              "#46039f"
             ],
             [
              0.2222222222222222,
              "#7201a8"
             ],
             [
              0.3333333333333333,
              "#9c179e"
             ],
             [
              0.4444444444444444,
              "#bd3786"
             ],
             [
              0.5555555555555556,
              "#d8576b"
             ],
             [
              0.6666666666666666,
              "#ed7953"
             ],
             [
              0.7777777777777778,
              "#fb9f3a"
             ],
             [
              0.8888888888888888,
              "#fdca26"
             ],
             [
              1,
              "#f0f921"
             ]
            ],
            "type": "histogram2d"
           }
          ],
          "histogram2dcontour": [
           {
            "colorbar": {
             "outlinewidth": 0,
             "ticks": ""
            },
            "colorscale": [
             [
              0,
              "#0d0887"
             ],
             [
              0.1111111111111111,
              "#46039f"
             ],
             [
              0.2222222222222222,
              "#7201a8"
             ],
             [
              0.3333333333333333,
              "#9c179e"
             ],
             [
              0.4444444444444444,
              "#bd3786"
             ],
             [
              0.5555555555555556,
              "#d8576b"
             ],
             [
              0.6666666666666666,
              "#ed7953"
             ],
             [
              0.7777777777777778,
              "#fb9f3a"
             ],
             [
              0.8888888888888888,
              "#fdca26"
             ],
             [
              1,
              "#f0f921"
             ]
            ],
            "type": "histogram2dcontour"
           }
          ],
          "mesh3d": [
           {
            "colorbar": {
             "outlinewidth": 0,
             "ticks": ""
            },
            "type": "mesh3d"
           }
          ],
          "parcoords": [
           {
            "line": {
             "colorbar": {
              "outlinewidth": 0,
              "ticks": ""
             }
            },
            "type": "parcoords"
           }
          ],
          "pie": [
           {
            "automargin": true,
            "type": "pie"
           }
          ],
          "scatter": [
           {
            "fillpattern": {
             "fillmode": "overlay",
             "size": 10,
             "solidity": 0.2
            },
            "type": "scatter"
           }
          ],
          "scatter3d": [
           {
            "line": {
             "colorbar": {
              "outlinewidth": 0,
              "ticks": ""
             }
            },
            "marker": {
             "colorbar": {
              "outlinewidth": 0,
              "ticks": ""
             }
            },
            "type": "scatter3d"
           }
          ],
          "scattercarpet": [
           {
            "marker": {
             "colorbar": {
              "outlinewidth": 0,
              "ticks": ""
             }
            },
            "type": "scattercarpet"
           }
          ],
          "scattergeo": [
           {
            "marker": {
             "colorbar": {
              "outlinewidth": 0,
              "ticks": ""
             }
            },
            "type": "scattergeo"
           }
          ],
          "scattergl": [
           {
            "marker": {
             "colorbar": {
              "outlinewidth": 0,
              "ticks": ""
             }
            },
            "type": "scattergl"
           }
          ],
          "scattermapbox": [
           {
            "marker": {
             "colorbar": {
              "outlinewidth": 0,
              "ticks": ""
             }
            },
            "type": "scattermapbox"
           }
          ],
          "scatterpolar": [
           {
            "marker": {
             "colorbar": {
              "outlinewidth": 0,
              "ticks": ""
             }
            },
            "type": "scatterpolar"
           }
          ],
          "scatterpolargl": [
           {
            "marker": {
             "colorbar": {
              "outlinewidth": 0,
              "ticks": ""
             }
            },
            "type": "scatterpolargl"
           }
          ],
          "scatterternary": [
           {
            "marker": {
             "colorbar": {
              "outlinewidth": 0,
              "ticks": ""
             }
            },
            "type": "scatterternary"
           }
          ],
          "surface": [
           {
            "colorbar": {
             "outlinewidth": 0,
             "ticks": ""
            },
            "colorscale": [
             [
              0,
              "#0d0887"
             ],
             [
              0.1111111111111111,
              "#46039f"
             ],
             [
              0.2222222222222222,
              "#7201a8"
             ],
             [
              0.3333333333333333,
              "#9c179e"
             ],
             [
              0.4444444444444444,
              "#bd3786"
             ],
             [
              0.5555555555555556,
              "#d8576b"
             ],
             [
              0.6666666666666666,
              "#ed7953"
             ],
             [
              0.7777777777777778,
              "#fb9f3a"
             ],
             [
              0.8888888888888888,
              "#fdca26"
             ],
             [
              1,
              "#f0f921"
             ]
            ],
            "type": "surface"
           }
          ],
          "table": [
           {
            "cells": {
             "fill": {
              "color": "#EBF0F8"
             },
             "line": {
              "color": "white"
             }
            },
            "header": {
             "fill": {
              "color": "#C8D4E3"
             },
             "line": {
              "color": "white"
             }
            },
            "type": "table"
           }
          ]
         },
         "layout": {
          "annotationdefaults": {
           "arrowcolor": "#2a3f5f",
           "arrowhead": 0,
           "arrowwidth": 1
          },
          "autotypenumbers": "strict",
          "coloraxis": {
           "colorbar": {
            "outlinewidth": 0,
            "ticks": ""
           }
          },
          "colorscale": {
           "diverging": [
            [
             0,
             "#8e0152"
            ],
            [
             0.1,
             "#c51b7d"
            ],
            [
             0.2,
             "#de77ae"
            ],
            [
             0.3,
             "#f1b6da"
            ],
            [
             0.4,
             "#fde0ef"
            ],
            [
             0.5,
             "#f7f7f7"
            ],
            [
             0.6,
             "#e6f5d0"
            ],
            [
             0.7,
             "#b8e186"
            ],
            [
             0.8,
             "#7fbc41"
            ],
            [
             0.9,
             "#4d9221"
            ],
            [
             1,
             "#276419"
            ]
           ],
           "sequential": [
            [
             0,
             "#0d0887"
            ],
            [
             0.1111111111111111,
             "#46039f"
            ],
            [
             0.2222222222222222,
             "#7201a8"
            ],
            [
             0.3333333333333333,
             "#9c179e"
            ],
            [
             0.4444444444444444,
             "#bd3786"
            ],
            [
             0.5555555555555556,
             "#d8576b"
            ],
            [
             0.6666666666666666,
             "#ed7953"
            ],
            [
             0.7777777777777778,
             "#fb9f3a"
            ],
            [
             0.8888888888888888,
             "#fdca26"
            ],
            [
             1,
             "#f0f921"
            ]
           ],
           "sequentialminus": [
            [
             0,
             "#0d0887"
            ],
            [
             0.1111111111111111,
             "#46039f"
            ],
            [
             0.2222222222222222,
             "#7201a8"
            ],
            [
             0.3333333333333333,
             "#9c179e"
            ],
            [
             0.4444444444444444,
             "#bd3786"
            ],
            [
             0.5555555555555556,
             "#d8576b"
            ],
            [
             0.6666666666666666,
             "#ed7953"
            ],
            [
             0.7777777777777778,
             "#fb9f3a"
            ],
            [
             0.8888888888888888,
             "#fdca26"
            ],
            [
             1,
             "#f0f921"
            ]
           ]
          },
          "colorway": [
           "#636efa",
           "#EF553B",
           "#00cc96",
           "#ab63fa",
           "#FFA15A",
           "#19d3f3",
           "#FF6692",
           "#B6E880",
           "#FF97FF",
           "#FECB52"
          ],
          "font": {
           "color": "#2a3f5f"
          },
          "geo": {
           "bgcolor": "white",
           "lakecolor": "white",
           "landcolor": "#E5ECF6",
           "showlakes": true,
           "showland": true,
           "subunitcolor": "white"
          },
          "hoverlabel": {
           "align": "left"
          },
          "hovermode": "closest",
          "mapbox": {
           "style": "light"
          },
          "paper_bgcolor": "white",
          "plot_bgcolor": "#E5ECF6",
          "polar": {
           "angularaxis": {
            "gridcolor": "white",
            "linecolor": "white",
            "ticks": ""
           },
           "bgcolor": "#E5ECF6",
           "radialaxis": {
            "gridcolor": "white",
            "linecolor": "white",
            "ticks": ""
           }
          },
          "scene": {
           "xaxis": {
            "backgroundcolor": "#E5ECF6",
            "gridcolor": "white",
            "gridwidth": 2,
            "linecolor": "white",
            "showbackground": true,
            "ticks": "",
            "zerolinecolor": "white"
           },
           "yaxis": {
            "backgroundcolor": "#E5ECF6",
            "gridcolor": "white",
            "gridwidth": 2,
            "linecolor": "white",
            "showbackground": true,
            "ticks": "",
            "zerolinecolor": "white"
           },
           "zaxis": {
            "backgroundcolor": "#E5ECF6",
            "gridcolor": "white",
            "gridwidth": 2,
            "linecolor": "white",
            "showbackground": true,
            "ticks": "",
            "zerolinecolor": "white"
           }
          },
          "shapedefaults": {
           "line": {
            "color": "#2a3f5f"
           }
          },
          "ternary": {
           "aaxis": {
            "gridcolor": "white",
            "linecolor": "white",
            "ticks": ""
           },
           "baxis": {
            "gridcolor": "white",
            "linecolor": "white",
            "ticks": ""
           },
           "bgcolor": "#E5ECF6",
           "caxis": {
            "gridcolor": "white",
            "linecolor": "white",
            "ticks": ""
           }
          },
          "title": {
           "x": 0.05
          },
          "xaxis": {
           "automargin": true,
           "gridcolor": "white",
           "linecolor": "white",
           "ticks": "",
           "title": {
            "standoff": 15
           },
           "zerolinecolor": "white",
           "zerolinewidth": 2
          },
          "yaxis": {
           "automargin": true,
           "gridcolor": "white",
           "linecolor": "white",
           "ticks": "",
           "title": {
            "standoff": 15
           },
           "zerolinecolor": "white",
           "zerolinewidth": 2
          }
         }
        },
        "title": {
         "text": "Number of Movies in Each Genre for angry"
        },
        "xaxis": {
         "anchor": "y",
         "domain": [
          0,
          1
         ],
         "title": {
          "text": "Movie Genres"
         }
        },
        "yaxis": {
         "anchor": "x",
         "domain": [
          0,
          1
         ],
         "title": {
          "text": "Number of Movies"
         }
        }
       }
      },
      "text/html": [
       "<div>                            <div id=\"c2691de9-b655-4753-91eb-834cea389974\" class=\"plotly-graph-div\" style=\"height:525px; width:100%;\"></div>            <script type=\"text/javascript\">                require([\"plotly\"], function(Plotly) {                    window.PLOTLYENV=window.PLOTLYENV || {};                                    if (document.getElementById(\"c2691de9-b655-4753-91eb-834cea389974\")) {                    Plotly.newPlot(                        \"c2691de9-b655-4753-91eb-834cea389974\",                        [{\"alignmentgroup\":\"True\",\"hovertemplate\":\"Movie Genres=%{x}<br>Number of Movies=%{y}<extra></extra>\",\"legendgroup\":\"\",\"marker\":{\"color\":\"skyblue\",\"pattern\":{\"shape\":\"\"},\"line\":{\"color\":\"black\",\"width\":2}},\"name\":\"\",\"offsetgroup\":\"\",\"orientation\":\"v\",\"showlegend\":false,\"textposition\":\"auto\",\"x\":[\"Crime, Drama\",\"Animation, Action, Adventure, Comedy, Family\",\"Action, Comedy, Fantasy, Thriller\",\"Music\",\"Crime, Drama\",\"Animation, Action, Adventure, Comedy, Family\",\"Comedy\",\"Comedy, Drama, Music, Musical\",\"Drama, War, Thriller\",\"Animation, Adventure, Comedy, Family\",\"Comedy\",\"Adventure, Comedy, Sci-Fi\",\"Comedy, Drama\",\"Comedy, Drama\",\"Comedy\",\"Drama, Fantasy, Horror\",\"Adventure, Horror, Sci-Fi\",\"Animation, Short, Comedy, Family\",\"Drama, Romance, War\",\"Animation, Short, Action, Adventure, Comedy, Family, Fantasy\"],\"xaxis\":\"x\",\"y\":[1,1,1,1,1,1,1,1,1,1,1,1,1,1,1,1,1,1,1,1],\"yaxis\":\"y\",\"type\":\"bar\"}],                        {\"template\":{\"data\":{\"histogram2dcontour\":[{\"type\":\"histogram2dcontour\",\"colorbar\":{\"outlinewidth\":0,\"ticks\":\"\"},\"colorscale\":[[0.0,\"#0d0887\"],[0.1111111111111111,\"#46039f\"],[0.2222222222222222,\"#7201a8\"],[0.3333333333333333,\"#9c179e\"],[0.4444444444444444,\"#bd3786\"],[0.5555555555555556,\"#d8576b\"],[0.6666666666666666,\"#ed7953\"],[0.7777777777777778,\"#fb9f3a\"],[0.8888888888888888,\"#fdca26\"],[1.0,\"#f0f921\"]]}],\"choropleth\":[{\"type\":\"choropleth\",\"colorbar\":{\"outlinewidth\":0,\"ticks\":\"\"}}],\"histogram2d\":[{\"type\":\"histogram2d\",\"colorbar\":{\"outlinewidth\":0,\"ticks\":\"\"},\"colorscale\":[[0.0,\"#0d0887\"],[0.1111111111111111,\"#46039f\"],[0.2222222222222222,\"#7201a8\"],[0.3333333333333333,\"#9c179e\"],[0.4444444444444444,\"#bd3786\"],[0.5555555555555556,\"#d8576b\"],[0.6666666666666666,\"#ed7953\"],[0.7777777777777778,\"#fb9f3a\"],[0.8888888888888888,\"#fdca26\"],[1.0,\"#f0f921\"]]}],\"heatmap\":[{\"type\":\"heatmap\",\"colorbar\":{\"outlinewidth\":0,\"ticks\":\"\"},\"colorscale\":[[0.0,\"#0d0887\"],[0.1111111111111111,\"#46039f\"],[0.2222222222222222,\"#7201a8\"],[0.3333333333333333,\"#9c179e\"],[0.4444444444444444,\"#bd3786\"],[0.5555555555555556,\"#d8576b\"],[0.6666666666666666,\"#ed7953\"],[0.7777777777777778,\"#fb9f3a\"],[0.8888888888888888,\"#fdca26\"],[1.0,\"#f0f921\"]]}],\"heatmapgl\":[{\"type\":\"heatmapgl\",\"colorbar\":{\"outlinewidth\":0,\"ticks\":\"\"},\"colorscale\":[[0.0,\"#0d0887\"],[0.1111111111111111,\"#46039f\"],[0.2222222222222222,\"#7201a8\"],[0.3333333333333333,\"#9c179e\"],[0.4444444444444444,\"#bd3786\"],[0.5555555555555556,\"#d8576b\"],[0.6666666666666666,\"#ed7953\"],[0.7777777777777778,\"#fb9f3a\"],[0.8888888888888888,\"#fdca26\"],[1.0,\"#f0f921\"]]}],\"contourcarpet\":[{\"type\":\"contourcarpet\",\"colorbar\":{\"outlinewidth\":0,\"ticks\":\"\"}}],\"contour\":[{\"type\":\"contour\",\"colorbar\":{\"outlinewidth\":0,\"ticks\":\"\"},\"colorscale\":[[0.0,\"#0d0887\"],[0.1111111111111111,\"#46039f\"],[0.2222222222222222,\"#7201a8\"],[0.3333333333333333,\"#9c179e\"],[0.4444444444444444,\"#bd3786\"],[0.5555555555555556,\"#d8576b\"],[0.6666666666666666,\"#ed7953\"],[0.7777777777777778,\"#fb9f3a\"],[0.8888888888888888,\"#fdca26\"],[1.0,\"#f0f921\"]]}],\"surface\":[{\"type\":\"surface\",\"colorbar\":{\"outlinewidth\":0,\"ticks\":\"\"},\"colorscale\":[[0.0,\"#0d0887\"],[0.1111111111111111,\"#46039f\"],[0.2222222222222222,\"#7201a8\"],[0.3333333333333333,\"#9c179e\"],[0.4444444444444444,\"#bd3786\"],[0.5555555555555556,\"#d8576b\"],[0.6666666666666666,\"#ed7953\"],[0.7777777777777778,\"#fb9f3a\"],[0.8888888888888888,\"#fdca26\"],[1.0,\"#f0f921\"]]}],\"mesh3d\":[{\"type\":\"mesh3d\",\"colorbar\":{\"outlinewidth\":0,\"ticks\":\"\"}}],\"scatter\":[{\"fillpattern\":{\"fillmode\":\"overlay\",\"size\":10,\"solidity\":0.2},\"type\":\"scatter\"}],\"parcoords\":[{\"type\":\"parcoords\",\"line\":{\"colorbar\":{\"outlinewidth\":0,\"ticks\":\"\"}}}],\"scatterpolargl\":[{\"type\":\"scatterpolargl\",\"marker\":{\"colorbar\":{\"outlinewidth\":0,\"ticks\":\"\"}}}],\"bar\":[{\"error_x\":{\"color\":\"#2a3f5f\"},\"error_y\":{\"color\":\"#2a3f5f\"},\"marker\":{\"line\":{\"color\":\"#E5ECF6\",\"width\":0.5},\"pattern\":{\"fillmode\":\"overlay\",\"size\":10,\"solidity\":0.2}},\"type\":\"bar\"}],\"scattergeo\":[{\"type\":\"scattergeo\",\"marker\":{\"colorbar\":{\"outlinewidth\":0,\"ticks\":\"\"}}}],\"scatterpolar\":[{\"type\":\"scatterpolar\",\"marker\":{\"colorbar\":{\"outlinewidth\":0,\"ticks\":\"\"}}}],\"histogram\":[{\"marker\":{\"pattern\":{\"fillmode\":\"overlay\",\"size\":10,\"solidity\":0.2}},\"type\":\"histogram\"}],\"scattergl\":[{\"type\":\"scattergl\",\"marker\":{\"colorbar\":{\"outlinewidth\":0,\"ticks\":\"\"}}}],\"scatter3d\":[{\"type\":\"scatter3d\",\"line\":{\"colorbar\":{\"outlinewidth\":0,\"ticks\":\"\"}},\"marker\":{\"colorbar\":{\"outlinewidth\":0,\"ticks\":\"\"}}}],\"scattermapbox\":[{\"type\":\"scattermapbox\",\"marker\":{\"colorbar\":{\"outlinewidth\":0,\"ticks\":\"\"}}}],\"scatterternary\":[{\"type\":\"scatterternary\",\"marker\":{\"colorbar\":{\"outlinewidth\":0,\"ticks\":\"\"}}}],\"scattercarpet\":[{\"type\":\"scattercarpet\",\"marker\":{\"colorbar\":{\"outlinewidth\":0,\"ticks\":\"\"}}}],\"carpet\":[{\"aaxis\":{\"endlinecolor\":\"#2a3f5f\",\"gridcolor\":\"white\",\"linecolor\":\"white\",\"minorgridcolor\":\"white\",\"startlinecolor\":\"#2a3f5f\"},\"baxis\":{\"endlinecolor\":\"#2a3f5f\",\"gridcolor\":\"white\",\"linecolor\":\"white\",\"minorgridcolor\":\"white\",\"startlinecolor\":\"#2a3f5f\"},\"type\":\"carpet\"}],\"table\":[{\"cells\":{\"fill\":{\"color\":\"#EBF0F8\"},\"line\":{\"color\":\"white\"}},\"header\":{\"fill\":{\"color\":\"#C8D4E3\"},\"line\":{\"color\":\"white\"}},\"type\":\"table\"}],\"barpolar\":[{\"marker\":{\"line\":{\"color\":\"#E5ECF6\",\"width\":0.5},\"pattern\":{\"fillmode\":\"overlay\",\"size\":10,\"solidity\":0.2}},\"type\":\"barpolar\"}],\"pie\":[{\"automargin\":true,\"type\":\"pie\"}]},\"layout\":{\"autotypenumbers\":\"strict\",\"colorway\":[\"#636efa\",\"#EF553B\",\"#00cc96\",\"#ab63fa\",\"#FFA15A\",\"#19d3f3\",\"#FF6692\",\"#B6E880\",\"#FF97FF\",\"#FECB52\"],\"font\":{\"color\":\"#2a3f5f\"},\"hovermode\":\"closest\",\"hoverlabel\":{\"align\":\"left\"},\"paper_bgcolor\":\"white\",\"plot_bgcolor\":\"#E5ECF6\",\"polar\":{\"bgcolor\":\"#E5ECF6\",\"angularaxis\":{\"gridcolor\":\"white\",\"linecolor\":\"white\",\"ticks\":\"\"},\"radialaxis\":{\"gridcolor\":\"white\",\"linecolor\":\"white\",\"ticks\":\"\"}},\"ternary\":{\"bgcolor\":\"#E5ECF6\",\"aaxis\":{\"gridcolor\":\"white\",\"linecolor\":\"white\",\"ticks\":\"\"},\"baxis\":{\"gridcolor\":\"white\",\"linecolor\":\"white\",\"ticks\":\"\"},\"caxis\":{\"gridcolor\":\"white\",\"linecolor\":\"white\",\"ticks\":\"\"}},\"coloraxis\":{\"colorbar\":{\"outlinewidth\":0,\"ticks\":\"\"}},\"colorscale\":{\"sequential\":[[0.0,\"#0d0887\"],[0.1111111111111111,\"#46039f\"],[0.2222222222222222,\"#7201a8\"],[0.3333333333333333,\"#9c179e\"],[0.4444444444444444,\"#bd3786\"],[0.5555555555555556,\"#d8576b\"],[0.6666666666666666,\"#ed7953\"],[0.7777777777777778,\"#fb9f3a\"],[0.8888888888888888,\"#fdca26\"],[1.0,\"#f0f921\"]],\"sequentialminus\":[[0.0,\"#0d0887\"],[0.1111111111111111,\"#46039f\"],[0.2222222222222222,\"#7201a8\"],[0.3333333333333333,\"#9c179e\"],[0.4444444444444444,\"#bd3786\"],[0.5555555555555556,\"#d8576b\"],[0.6666666666666666,\"#ed7953\"],[0.7777777777777778,\"#fb9f3a\"],[0.8888888888888888,\"#fdca26\"],[1.0,\"#f0f921\"]],\"diverging\":[[0,\"#8e0152\"],[0.1,\"#c51b7d\"],[0.2,\"#de77ae\"],[0.3,\"#f1b6da\"],[0.4,\"#fde0ef\"],[0.5,\"#f7f7f7\"],[0.6,\"#e6f5d0\"],[0.7,\"#b8e186\"],[0.8,\"#7fbc41\"],[0.9,\"#4d9221\"],[1,\"#276419\"]]},\"xaxis\":{\"gridcolor\":\"white\",\"linecolor\":\"white\",\"ticks\":\"\",\"title\":{\"standoff\":15},\"zerolinecolor\":\"white\",\"automargin\":true,\"zerolinewidth\":2},\"yaxis\":{\"gridcolor\":\"white\",\"linecolor\":\"white\",\"ticks\":\"\",\"title\":{\"standoff\":15},\"zerolinecolor\":\"white\",\"automargin\":true,\"zerolinewidth\":2},\"scene\":{\"xaxis\":{\"backgroundcolor\":\"#E5ECF6\",\"gridcolor\":\"white\",\"linecolor\":\"white\",\"showbackground\":true,\"ticks\":\"\",\"zerolinecolor\":\"white\",\"gridwidth\":2},\"yaxis\":{\"backgroundcolor\":\"#E5ECF6\",\"gridcolor\":\"white\",\"linecolor\":\"white\",\"showbackground\":true,\"ticks\":\"\",\"zerolinecolor\":\"white\",\"gridwidth\":2},\"zaxis\":{\"backgroundcolor\":\"#E5ECF6\",\"gridcolor\":\"white\",\"linecolor\":\"white\",\"showbackground\":true,\"ticks\":\"\",\"zerolinecolor\":\"white\",\"gridwidth\":2}},\"shapedefaults\":{\"line\":{\"color\":\"#2a3f5f\"}},\"annotationdefaults\":{\"arrowcolor\":\"#2a3f5f\",\"arrowhead\":0,\"arrowwidth\":1},\"geo\":{\"bgcolor\":\"white\",\"landcolor\":\"#E5ECF6\",\"subunitcolor\":\"white\",\"showland\":true,\"showlakes\":true,\"lakecolor\":\"white\"},\"title\":{\"x\":0.05},\"mapbox\":{\"style\":\"light\"}}},\"xaxis\":{\"anchor\":\"y\",\"domain\":[0.0,1.0],\"title\":{\"text\":\"Movie Genres\"}},\"yaxis\":{\"anchor\":\"x\",\"domain\":[0.0,1.0],\"title\":{\"text\":\"Number of Movies\"}},\"legend\":{\"tracegroupgap\":0},\"title\":{\"text\":\"Number of Movies in Each Genre for angry\"},\"barmode\":\"relative\"},                        {\"responsive\": true}                    ).then(function(){\n",
       "                            \n",
       "var gd = document.getElementById('c2691de9-b655-4753-91eb-834cea389974');\n",
       "var x = new MutationObserver(function (mutations, observer) {{\n",
       "        var display = window.getComputedStyle(gd).display;\n",
       "        if (!display || display === 'none') {{\n",
       "            console.log([gd, 'removed!']);\n",
       "            Plotly.purge(gd);\n",
       "            observer.disconnect();\n",
       "        }}\n",
       "}});\n",
       "\n",
       "// Listen for the removal of the full notebook cells\n",
       "var notebookContainer = gd.closest('#notebook-container');\n",
       "if (notebookContainer) {{\n",
       "    x.observe(notebookContainer, {childList: true});\n",
       "}}\n",
       "\n",
       "// Listen for the clearing of the current output cell\n",
       "var outputEl = gd.closest('.output');\n",
       "if (outputEl) {{\n",
       "    x.observe(outputEl, {childList: true});\n",
       "}}\n",
       "\n",
       "                        })                };                });            </script>        </div>"
      ]
     },
     "metadata": {},
     "output_type": "display_data"
    }
   ],
   "source": [
    "import pandas as pd\n",
    "import plotly.express as px\n",
    "import imdb\n",
    "\n",
    "# Function to retrieve movie data\n",
    "def get_movie_data(emotion):\n",
    "    ia = imdb.IMDb()\n",
    "    movies = ia.search_movie(emotion)\n",
    "    movie_data = []\n",
    "\n",
    "    for movie in movies:\n",
    "        ia.update(movie, info=['main', 'ratings', 'genres', 'year'])\n",
    "        \n",
    "        # Print keys to understand the structure of movie information\n",
    "        print(movie.keys())\n",
    "\n",
    "        movie_info = {\n",
    "            'Title': movie['title'],\n",
    "            'Year': movie.get('year', None),  # Use get to handle missing 'year' key\n",
    "            'Rating': movie.get('rating', None),\n",
    "            'Genres': ', '.join(movie.get('genres', []))\n",
    "        }\n",
    "        movie_data.append(movie_info)\n",
    "\n",
    "    return pd.DataFrame(movie_data)\n",
    "\n",
    "# Take user input for emotion\n",
    "emotion = input(\"Enter the emotion: \")\n",
    "\n",
    "# Get movie data for the user-input emotion\n",
    "df = get_movie_data(emotion)\n",
    "\n",
    "# Scatter plot: Ratings vs. Release Years\n",
    "fig_scatter = px.scatter(df, x='Year', y='Rating', color='Genres',\n",
    "                         size_max=10, title=f'Scatter Plot for {emotion}',\n",
    "                         labels={'Rating': 'IMDb Rating', 'Year': 'Release Year'})\n",
    "fig_scatter.update_traces(marker=dict(size=8, opacity=0.6))\n",
    "\n",
    "# Bar chart: Number of Movies in Each Genre\n",
    "fig_bar = px.bar(df, x='Genres', title=f'Number of Movies in Each Genre for {emotion}',\n",
    "                labels={'Genres': 'Movie Genres', 'count': 'Number of Movies'})\n",
    "fig_bar.update_traces(marker=dict(color='skyblue', line=dict(color='black', width=2)))\n",
    "\n",
    "# Display interactive plots\n",
    "fig_scatter.show()\n",
    "fig_bar.show()\n"
   ]
  },
  {
   "cell_type": "code",
   "execution_count": null,
   "id": "36e88416",
   "metadata": {},
   "outputs": [],
   "source": []
  }
 ],
 "metadata": {
  "kernelspec": {
   "display_name": "Python 3 (ipykernel)",
   "language": "python",
   "name": "python3"
  },
  "language_info": {
   "codemirror_mode": {
    "name": "ipython",
    "version": 3
   },
   "file_extension": ".py",
   "mimetype": "text/x-python",
   "name": "python",
   "nbconvert_exporter": "python",
   "pygments_lexer": "ipython3",
   "version": "3.9.13"
  }
 },
 "nbformat": 4,
 "nbformat_minor": 5
}
